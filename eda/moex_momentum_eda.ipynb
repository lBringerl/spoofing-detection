{
 "cells": [
  {
   "cell_type": "code",
   "execution_count": 1,
   "metadata": {},
   "outputs": [],
   "source": [
    "import pandas as pd\n",
    "import numpy as np"
   ]
  },
  {
   "cell_type": "code",
   "execution_count": 2,
   "metadata": {},
   "outputs": [],
   "source": [
    "target_date_str = '20150302'\n",
    "target_datetime = pd.to_datetime(target_date_str, format='%Y%m%d')"
   ]
  },
  {
   "cell_type": "code",
   "execution_count": 5,
   "metadata": {},
   "outputs": [],
   "source": [
    "orders_df = pd.read_csv(f'../OrderLog{target_date_str}/OrderLog{target_date_str}.txt', index_col='NO')"
   ]
  },
  {
   "cell_type": "code",
   "execution_count": 8,
   "metadata": {},
   "outputs": [],
   "source": [
    "trades_df = pd.read_csv(f'../OrderLog{target_date_str}/TradeLog{target_date_str}.txt')"
   ]
  },
  {
   "cell_type": "markdown",
   "metadata": {},
   "source": [
    "## 1. Preprocessing\n",
    "\n",
    "### 1.1 Add DATETIME column with datetime"
   ]
  },
  {
   "cell_type": "code",
   "execution_count": 9,
   "metadata": {},
   "outputs": [],
   "source": [
    "orders_df['DATETIME'] = pd.to_datetime(target_date_str + orders_df['TIME'].astype(str), format='%Y%m%d%H%M%S%f')"
   ]
  },
  {
   "cell_type": "code",
   "execution_count": 10,
   "metadata": {},
   "outputs": [
    {
     "data": {
      "text/plain": [
       "NO\n",
       "10453   2015-03-02 10:00:00.071\n",
       "10455   2015-03-02 10:00:00.073\n",
       "10457   2015-03-02 10:00:00.095\n",
       "10460   2015-03-02 10:00:00.110\n",
       "10466   2015-03-02 10:00:00.139\n",
       "                  ...          \n",
       "13079   2015-03-02 10:00:01.904\n",
       "13103   2015-03-02 10:00:01.931\n",
       "13104   2015-03-02 10:00:01.931\n",
       "13105   2015-03-02 10:00:01.931\n",
       "13130   2015-03-02 10:00:01.960\n",
       "Name: DATETIME, Length: 243, dtype: datetime64[ns]"
      ]
     },
     "execution_count": 10,
     "metadata": {},
     "output_type": "execute_result"
    }
   ],
   "source": [
    "orders_df[(orders_df.SECCODE == 'SBER') & (orders_df.TIME > 100000000) & (orders_df.TIME < 100002000)].DATETIME"
   ]
  },
  {
   "cell_type": "code",
   "execution_count": 11,
   "metadata": {},
   "outputs": [],
   "source": [
    "trades_df['DATETIME'] = pd.to_datetime(target_date_str + trades_df['TIME'].astype(str), format='%Y%m%d%H%M%S')"
   ]
  },
  {
   "cell_type": "code",
   "execution_count": 12,
   "metadata": {},
   "outputs": [
    {
     "data": {
      "text/plain": [
       "0        2015-03-02 10:00:00\n",
       "1        2015-03-02 10:00:00\n",
       "2        2015-03-02 10:00:00\n",
       "3        2015-03-02 10:00:00\n",
       "4        2015-03-02 10:00:00\n",
       "                 ...        \n",
       "409249   2015-03-02 18:39:58\n",
       "409250   2015-03-02 18:39:58\n",
       "409251   2015-03-02 18:39:58\n",
       "409252   2015-03-02 18:39:58\n",
       "409253   2015-03-02 18:39:58\n",
       "Name: DATETIME, Length: 409254, dtype: datetime64[ns]"
      ]
     },
     "execution_count": 12,
     "metadata": {},
     "output_type": "execute_result"
    }
   ],
   "source": [
    "trades_df.DATETIME"
   ]
  },
  {
   "cell_type": "code",
   "execution_count": 13,
   "metadata": {},
   "outputs": [
    {
     "data": {
      "text/html": [
       "<div>\n",
       "<style scoped>\n",
       "    .dataframe tbody tr th:only-of-type {\n",
       "        vertical-align: middle;\n",
       "    }\n",
       "\n",
       "    .dataframe tbody tr th {\n",
       "        vertical-align: top;\n",
       "    }\n",
       "\n",
       "    .dataframe thead th {\n",
       "        text-align: right;\n",
       "    }\n",
       "</style>\n",
       "<table border=\"1\" class=\"dataframe\">\n",
       "  <thead>\n",
       "    <tr style=\"text-align: right;\">\n",
       "      <th></th>\n",
       "      <th>TRADENO</th>\n",
       "      <th>SECCODE</th>\n",
       "      <th>TIME</th>\n",
       "      <th>BUYORDERNO</th>\n",
       "      <th>SELLORDERNO</th>\n",
       "      <th>PRICE</th>\n",
       "      <th>VOLUME</th>\n",
       "      <th>DATETIME</th>\n",
       "    </tr>\n",
       "  </thead>\n",
       "  <tbody>\n",
       "    <tr>\n",
       "      <th>0</th>\n",
       "      <td>2460134732</td>\n",
       "      <td>URKA</td>\n",
       "      <td>100000</td>\n",
       "      <td>3576</td>\n",
       "      <td>10467</td>\n",
       "      <td>171.1000</td>\n",
       "      <td>320</td>\n",
       "      <td>2015-03-02 10:00:00</td>\n",
       "    </tr>\n",
       "    <tr>\n",
       "      <th>1</th>\n",
       "      <td>2460134733</td>\n",
       "      <td>SBERP</td>\n",
       "      <td>100000</td>\n",
       "      <td>6756</td>\n",
       "      <td>10471</td>\n",
       "      <td>53.8200</td>\n",
       "      <td>700</td>\n",
       "      <td>2015-03-02 10:00:00</td>\n",
       "    </tr>\n",
       "    <tr>\n",
       "      <th>2</th>\n",
       "      <td>2460134734</td>\n",
       "      <td>RSTI</td>\n",
       "      <td>100000</td>\n",
       "      <td>9605</td>\n",
       "      <td>10473</td>\n",
       "      <td>0.6445</td>\n",
       "      <td>472000</td>\n",
       "      <td>2015-03-02 10:00:00</td>\n",
       "    </tr>\n",
       "    <tr>\n",
       "      <th>3</th>\n",
       "      <td>2460134735</td>\n",
       "      <td>TATN</td>\n",
       "      <td>100000</td>\n",
       "      <td>2088</td>\n",
       "      <td>10487</td>\n",
       "      <td>318.8500</td>\n",
       "      <td>1940</td>\n",
       "      <td>2015-03-02 10:00:00</td>\n",
       "    </tr>\n",
       "    <tr>\n",
       "      <th>4</th>\n",
       "      <td>2460134736</td>\n",
       "      <td>MOEX</td>\n",
       "      <td>100000</td>\n",
       "      <td>1135</td>\n",
       "      <td>10488</td>\n",
       "      <td>76.2100</td>\n",
       "      <td>330</td>\n",
       "      <td>2015-03-02 10:00:00</td>\n",
       "    </tr>\n",
       "    <tr>\n",
       "      <th>...</th>\n",
       "      <td>...</td>\n",
       "      <td>...</td>\n",
       "      <td>...</td>\n",
       "      <td>...</td>\n",
       "      <td>...</td>\n",
       "      <td>...</td>\n",
       "      <td>...</td>\n",
       "      <td>...</td>\n",
       "    </tr>\n",
       "    <tr>\n",
       "      <th>409249</th>\n",
       "      <td>2460556953</td>\n",
       "      <td>LSRG</td>\n",
       "      <td>183958</td>\n",
       "      <td>6817292</td>\n",
       "      <td>6920224</td>\n",
       "      <td>582.0000</td>\n",
       "      <td>104</td>\n",
       "      <td>2015-03-02 18:39:58</td>\n",
       "    </tr>\n",
       "    <tr>\n",
       "      <th>409250</th>\n",
       "      <td>2460556954</td>\n",
       "      <td>SNGSP</td>\n",
       "      <td>183958</td>\n",
       "      <td>6920241</td>\n",
       "      <td>6920115</td>\n",
       "      <td>41.3450</td>\n",
       "      <td>100</td>\n",
       "      <td>2015-03-02 18:39:58</td>\n",
       "    </tr>\n",
       "    <tr>\n",
       "      <th>409251</th>\n",
       "      <td>2460556955</td>\n",
       "      <td>MTLR</td>\n",
       "      <td>183958</td>\n",
       "      <td>6895955</td>\n",
       "      <td>6920251</td>\n",
       "      <td>83.0100</td>\n",
       "      <td>606</td>\n",
       "      <td>2015-03-02 18:39:58</td>\n",
       "    </tr>\n",
       "    <tr>\n",
       "      <th>409252</th>\n",
       "      <td>2460556956</td>\n",
       "      <td>TRNFP</td>\n",
       "      <td>183958</td>\n",
       "      <td>6920271</td>\n",
       "      <td>6919704</td>\n",
       "      <td>137490.0000</td>\n",
       "      <td>1</td>\n",
       "      <td>2015-03-02 18:39:58</td>\n",
       "    </tr>\n",
       "    <tr>\n",
       "      <th>409253</th>\n",
       "      <td>2460556959</td>\n",
       "      <td>SBER</td>\n",
       "      <td>183958</td>\n",
       "      <td>6920215</td>\n",
       "      <td>6920305</td>\n",
       "      <td>76.1600</td>\n",
       "      <td>10</td>\n",
       "      <td>2015-03-02 18:39:58</td>\n",
       "    </tr>\n",
       "  </tbody>\n",
       "</table>\n",
       "<p>409254 rows × 8 columns</p>\n",
       "</div>"
      ],
      "text/plain": [
       "           TRADENO SECCODE    TIME  BUYORDERNO  SELLORDERNO        PRICE  \\\n",
       "0       2460134732    URKA  100000        3576        10467     171.1000   \n",
       "1       2460134733   SBERP  100000        6756        10471      53.8200   \n",
       "2       2460134734    RSTI  100000        9605        10473       0.6445   \n",
       "3       2460134735    TATN  100000        2088        10487     318.8500   \n",
       "4       2460134736    MOEX  100000        1135        10488      76.2100   \n",
       "...            ...     ...     ...         ...          ...          ...   \n",
       "409249  2460556953    LSRG  183958     6817292      6920224     582.0000   \n",
       "409250  2460556954   SNGSP  183958     6920241      6920115      41.3450   \n",
       "409251  2460556955    MTLR  183958     6895955      6920251      83.0100   \n",
       "409252  2460556956   TRNFP  183958     6920271      6919704  137490.0000   \n",
       "409253  2460556959    SBER  183958     6920215      6920305      76.1600   \n",
       "\n",
       "        VOLUME            DATETIME  \n",
       "0          320 2015-03-02 10:00:00  \n",
       "1          700 2015-03-02 10:00:00  \n",
       "2       472000 2015-03-02 10:00:00  \n",
       "3         1940 2015-03-02 10:00:00  \n",
       "4          330 2015-03-02 10:00:00  \n",
       "...        ...                 ...  \n",
       "409249     104 2015-03-02 18:39:58  \n",
       "409250     100 2015-03-02 18:39:58  \n",
       "409251     606 2015-03-02 18:39:58  \n",
       "409252       1 2015-03-02 18:39:58  \n",
       "409253      10 2015-03-02 18:39:58  \n",
       "\n",
       "[409254 rows x 8 columns]"
      ]
     },
     "execution_count": 13,
     "metadata": {},
     "output_type": "execute_result"
    }
   ],
   "source": [
    "trades_df"
   ]
  },
  {
   "cell_type": "code",
   "execution_count": 14,
   "metadata": {},
   "outputs": [
    {
     "data": {
      "text/html": [
       "<div>\n",
       "<style scoped>\n",
       "    .dataframe tbody tr th:only-of-type {\n",
       "        vertical-align: middle;\n",
       "    }\n",
       "\n",
       "    .dataframe tbody tr th {\n",
       "        vertical-align: top;\n",
       "    }\n",
       "\n",
       "    .dataframe thead th {\n",
       "        text-align: right;\n",
       "    }\n",
       "</style>\n",
       "<table border=\"1\" class=\"dataframe\">\n",
       "  <thead>\n",
       "    <tr style=\"text-align: right;\">\n",
       "      <th></th>\n",
       "      <th>SECCODE</th>\n",
       "      <th>BUYSELL</th>\n",
       "      <th>TIME</th>\n",
       "      <th>ORDERNO</th>\n",
       "      <th>ACTION</th>\n",
       "      <th>PRICE</th>\n",
       "      <th>VOLUME</th>\n",
       "      <th>TRADENO</th>\n",
       "      <th>TRADEPRICE</th>\n",
       "      <th>DATETIME</th>\n",
       "    </tr>\n",
       "    <tr>\n",
       "      <th>NO</th>\n",
       "      <th></th>\n",
       "      <th></th>\n",
       "      <th></th>\n",
       "      <th></th>\n",
       "      <th></th>\n",
       "      <th></th>\n",
       "      <th></th>\n",
       "      <th></th>\n",
       "      <th></th>\n",
       "      <th></th>\n",
       "    </tr>\n",
       "  </thead>\n",
       "  <tbody>\n",
       "    <tr>\n",
       "      <th>10603</th>\n",
       "      <td>SBER</td>\n",
       "      <td>B</td>\n",
       "      <td>100000550</td>\n",
       "      <td>10567</td>\n",
       "      <td>2</td>\n",
       "      <td>0.00</td>\n",
       "      <td>100</td>\n",
       "      <td>2.460135e+09</td>\n",
       "      <td>76.34</td>\n",
       "      <td>2015-03-02 10:00:00.550</td>\n",
       "    </tr>\n",
       "    <tr>\n",
       "      <th>10604</th>\n",
       "      <td>SBER</td>\n",
       "      <td>S</td>\n",
       "      <td>100000550</td>\n",
       "      <td>10465</td>\n",
       "      <td>2</td>\n",
       "      <td>76.34</td>\n",
       "      <td>100</td>\n",
       "      <td>2.460135e+09</td>\n",
       "      <td>76.34</td>\n",
       "      <td>2015-03-02 10:00:00.550</td>\n",
       "    </tr>\n",
       "    <tr>\n",
       "      <th>10611</th>\n",
       "      <td>SBER</td>\n",
       "      <td>B</td>\n",
       "      <td>100000566</td>\n",
       "      <td>10492</td>\n",
       "      <td>2</td>\n",
       "      <td>76.33</td>\n",
       "      <td>10000</td>\n",
       "      <td>2.460135e+09</td>\n",
       "      <td>76.33</td>\n",
       "      <td>2015-03-02 10:00:00.566</td>\n",
       "    </tr>\n",
       "    <tr>\n",
       "      <th>10612</th>\n",
       "      <td>SBER</td>\n",
       "      <td>S</td>\n",
       "      <td>100000566</td>\n",
       "      <td>10572</td>\n",
       "      <td>2</td>\n",
       "      <td>76.33</td>\n",
       "      <td>10000</td>\n",
       "      <td>2.460135e+09</td>\n",
       "      <td>76.33</td>\n",
       "      <td>2015-03-02 10:00:00.566</td>\n",
       "    </tr>\n",
       "    <tr>\n",
       "      <th>10645</th>\n",
       "      <td>SBER</td>\n",
       "      <td>B</td>\n",
       "      <td>100000615</td>\n",
       "      <td>10492</td>\n",
       "      <td>2</td>\n",
       "      <td>76.33</td>\n",
       "      <td>50</td>\n",
       "      <td>2.460135e+09</td>\n",
       "      <td>76.33</td>\n",
       "      <td>2015-03-02 10:00:00.615</td>\n",
       "    </tr>\n",
       "    <tr>\n",
       "      <th>...</th>\n",
       "      <td>...</td>\n",
       "      <td>...</td>\n",
       "      <td>...</td>\n",
       "      <td>...</td>\n",
       "      <td>...</td>\n",
       "      <td>...</td>\n",
       "      <td>...</td>\n",
       "      <td>...</td>\n",
       "      <td>...</td>\n",
       "      <td>...</td>\n",
       "    </tr>\n",
       "    <tr>\n",
       "      <th>14200411</th>\n",
       "      <td>SBER</td>\n",
       "      <td>S</td>\n",
       "      <td>183958468</td>\n",
       "      <td>6920196</td>\n",
       "      <td>2</td>\n",
       "      <td>0.00</td>\n",
       "      <td>190</td>\n",
       "      <td>2.460557e+09</td>\n",
       "      <td>76.15</td>\n",
       "      <td>2015-03-02 18:39:58.468</td>\n",
       "    </tr>\n",
       "    <tr>\n",
       "      <th>14200412</th>\n",
       "      <td>SBER</td>\n",
       "      <td>B</td>\n",
       "      <td>183958468</td>\n",
       "      <td>6919675</td>\n",
       "      <td>2</td>\n",
       "      <td>76.12</td>\n",
       "      <td>10</td>\n",
       "      <td>2.460557e+09</td>\n",
       "      <td>76.12</td>\n",
       "      <td>2015-03-02 18:39:58.468</td>\n",
       "    </tr>\n",
       "    <tr>\n",
       "      <th>14200413</th>\n",
       "      <td>SBER</td>\n",
       "      <td>S</td>\n",
       "      <td>183958468</td>\n",
       "      <td>6920196</td>\n",
       "      <td>2</td>\n",
       "      <td>0.00</td>\n",
       "      <td>10</td>\n",
       "      <td>2.460557e+09</td>\n",
       "      <td>76.12</td>\n",
       "      <td>2015-03-02 18:39:58.468</td>\n",
       "    </tr>\n",
       "    <tr>\n",
       "      <th>14200632</th>\n",
       "      <td>SBER</td>\n",
       "      <td>B</td>\n",
       "      <td>183958846</td>\n",
       "      <td>6920215</td>\n",
       "      <td>2</td>\n",
       "      <td>76.16</td>\n",
       "      <td>10</td>\n",
       "      <td>2.460557e+09</td>\n",
       "      <td>76.16</td>\n",
       "      <td>2015-03-02 18:39:58.846</td>\n",
       "    </tr>\n",
       "    <tr>\n",
       "      <th>14200633</th>\n",
       "      <td>SBER</td>\n",
       "      <td>S</td>\n",
       "      <td>183958846</td>\n",
       "      <td>6920305</td>\n",
       "      <td>2</td>\n",
       "      <td>0.00</td>\n",
       "      <td>10</td>\n",
       "      <td>2.460557e+09</td>\n",
       "      <td>76.16</td>\n",
       "      <td>2015-03-02 18:39:58.846</td>\n",
       "    </tr>\n",
       "  </tbody>\n",
       "</table>\n",
       "<p>164728 rows × 10 columns</p>\n",
       "</div>"
      ],
      "text/plain": [
       "         SECCODE BUYSELL       TIME  ORDERNO  ACTION  PRICE  VOLUME  \\\n",
       "NO                                                                    \n",
       "10603       SBER       B  100000550    10567       2   0.00     100   \n",
       "10604       SBER       S  100000550    10465       2  76.34     100   \n",
       "10611       SBER       B  100000566    10492       2  76.33   10000   \n",
       "10612       SBER       S  100000566    10572       2  76.33   10000   \n",
       "10645       SBER       B  100000615    10492       2  76.33      50   \n",
       "...          ...     ...        ...      ...     ...    ...     ...   \n",
       "14200411    SBER       S  183958468  6920196       2   0.00     190   \n",
       "14200412    SBER       B  183958468  6919675       2  76.12      10   \n",
       "14200413    SBER       S  183958468  6920196       2   0.00      10   \n",
       "14200632    SBER       B  183958846  6920215       2  76.16      10   \n",
       "14200633    SBER       S  183958846  6920305       2   0.00      10   \n",
       "\n",
       "               TRADENO  TRADEPRICE                DATETIME  \n",
       "NO                                                          \n",
       "10603     2.460135e+09       76.34 2015-03-02 10:00:00.550  \n",
       "10604     2.460135e+09       76.34 2015-03-02 10:00:00.550  \n",
       "10611     2.460135e+09       76.33 2015-03-02 10:00:00.566  \n",
       "10612     2.460135e+09       76.33 2015-03-02 10:00:00.566  \n",
       "10645     2.460135e+09       76.33 2015-03-02 10:00:00.615  \n",
       "...                ...         ...                     ...  \n",
       "14200411  2.460557e+09       76.15 2015-03-02 18:39:58.468  \n",
       "14200412  2.460557e+09       76.12 2015-03-02 18:39:58.468  \n",
       "14200413  2.460557e+09       76.12 2015-03-02 18:39:58.468  \n",
       "14200632  2.460557e+09       76.16 2015-03-02 18:39:58.846  \n",
       "14200633  2.460557e+09       76.16 2015-03-02 18:39:58.846  \n",
       "\n",
       "[164728 rows x 10 columns]"
      ]
     },
     "execution_count": 14,
     "metadata": {},
     "output_type": "execute_result"
    }
   ],
   "source": [
    "orders_df[(orders_df.SECCODE == 'SBER') & (orders_df.ACTION == 2)]"
   ]
  },
  {
   "cell_type": "code",
   "execution_count": 15,
   "metadata": {},
   "outputs": [
    {
     "data": {
      "text/plain": [
       "dtype('int64')"
      ]
     },
     "execution_count": 15,
     "metadata": {},
     "output_type": "execute_result"
    }
   ],
   "source": [
    "orders_df.VOLUME.dtype"
   ]
  },
  {
   "cell_type": "code",
   "execution_count": 16,
   "metadata": {},
   "outputs": [],
   "source": [
    "sber_orders_df = orders_df[(orders_df.SECCODE == 'SBER')]"
   ]
  },
  {
   "cell_type": "code",
   "execution_count": 20,
   "metadata": {},
   "outputs": [
    {
     "data": {
      "text/html": [
       "<div>\n",
       "<style scoped>\n",
       "    .dataframe tbody tr th:only-of-type {\n",
       "        vertical-align: middle;\n",
       "    }\n",
       "\n",
       "    .dataframe tbody tr th {\n",
       "        vertical-align: top;\n",
       "    }\n",
       "\n",
       "    .dataframe thead th {\n",
       "        text-align: right;\n",
       "    }\n",
       "</style>\n",
       "<table border=\"1\" class=\"dataframe\">\n",
       "  <thead>\n",
       "    <tr style=\"text-align: right;\">\n",
       "      <th></th>\n",
       "      <th>SECCODE</th>\n",
       "      <th>BUYSELL</th>\n",
       "      <th>TIME</th>\n",
       "      <th>ORDERNO</th>\n",
       "      <th>ACTION</th>\n",
       "      <th>PRICE</th>\n",
       "      <th>VOLUME</th>\n",
       "      <th>TRADENO</th>\n",
       "      <th>TRADEPRICE</th>\n",
       "      <th>DATETIME</th>\n",
       "    </tr>\n",
       "    <tr>\n",
       "      <th>NO</th>\n",
       "      <th></th>\n",
       "      <th></th>\n",
       "      <th></th>\n",
       "      <th></th>\n",
       "      <th></th>\n",
       "      <th></th>\n",
       "      <th></th>\n",
       "      <th></th>\n",
       "      <th></th>\n",
       "      <th></th>\n",
       "    </tr>\n",
       "  </thead>\n",
       "  <tbody>\n",
       "    <tr>\n",
       "      <th>44</th>\n",
       "      <td>SBER</td>\n",
       "      <td>B</td>\n",
       "      <td>100000000</td>\n",
       "      <td>44</td>\n",
       "      <td>1</td>\n",
       "      <td>70.22</td>\n",
       "      <td>50</td>\n",
       "      <td>NaN</td>\n",
       "      <td>NaN</td>\n",
       "      <td>2015-03-02 10:00:00.000</td>\n",
       "    </tr>\n",
       "    <tr>\n",
       "      <th>45</th>\n",
       "      <td>SBER</td>\n",
       "      <td>S</td>\n",
       "      <td>100000000</td>\n",
       "      <td>45</td>\n",
       "      <td>1</td>\n",
       "      <td>78.28</td>\n",
       "      <td>10</td>\n",
       "      <td>NaN</td>\n",
       "      <td>NaN</td>\n",
       "      <td>2015-03-02 10:00:00.000</td>\n",
       "    </tr>\n",
       "    <tr>\n",
       "      <th>104</th>\n",
       "      <td>SBER</td>\n",
       "      <td>B</td>\n",
       "      <td>100000000</td>\n",
       "      <td>104</td>\n",
       "      <td>1</td>\n",
       "      <td>73.00</td>\n",
       "      <td>213000</td>\n",
       "      <td>NaN</td>\n",
       "      <td>NaN</td>\n",
       "      <td>2015-03-02 10:00:00.000</td>\n",
       "    </tr>\n",
       "    <tr>\n",
       "      <th>109</th>\n",
       "      <td>SBER</td>\n",
       "      <td>S</td>\n",
       "      <td>100000000</td>\n",
       "      <td>109</td>\n",
       "      <td>1</td>\n",
       "      <td>76.49</td>\n",
       "      <td>20</td>\n",
       "      <td>NaN</td>\n",
       "      <td>NaN</td>\n",
       "      <td>2015-03-02 10:00:00.000</td>\n",
       "    </tr>\n",
       "    <tr>\n",
       "      <th>111</th>\n",
       "      <td>SBER</td>\n",
       "      <td>S</td>\n",
       "      <td>100000000</td>\n",
       "      <td>111</td>\n",
       "      <td>1</td>\n",
       "      <td>77.33</td>\n",
       "      <td>10</td>\n",
       "      <td>NaN</td>\n",
       "      <td>NaN</td>\n",
       "      <td>2015-03-02 10:00:00.000</td>\n",
       "    </tr>\n",
       "    <tr>\n",
       "      <th>...</th>\n",
       "      <td>...</td>\n",
       "      <td>...</td>\n",
       "      <td>...</td>\n",
       "      <td>...</td>\n",
       "      <td>...</td>\n",
       "      <td>...</td>\n",
       "      <td>...</td>\n",
       "      <td>...</td>\n",
       "      <td>...</td>\n",
       "      <td>...</td>\n",
       "    </tr>\n",
       "    <tr>\n",
       "      <th>14203332</th>\n",
       "      <td>SBER</td>\n",
       "      <td>B</td>\n",
       "      <td>184432649</td>\n",
       "      <td>6844637</td>\n",
       "      <td>0</td>\n",
       "      <td>75.42</td>\n",
       "      <td>10</td>\n",
       "      <td>NaN</td>\n",
       "      <td>NaN</td>\n",
       "      <td>2015-03-02 18:44:32.649</td>\n",
       "    </tr>\n",
       "    <tr>\n",
       "      <th>14203377</th>\n",
       "      <td>SBER</td>\n",
       "      <td>B</td>\n",
       "      <td>184439644</td>\n",
       "      <td>6869081</td>\n",
       "      <td>0</td>\n",
       "      <td>76.03</td>\n",
       "      <td>1500</td>\n",
       "      <td>NaN</td>\n",
       "      <td>NaN</td>\n",
       "      <td>2015-03-02 18:44:39.644</td>\n",
       "    </tr>\n",
       "    <tr>\n",
       "      <th>14203405</th>\n",
       "      <td>SBER</td>\n",
       "      <td>S</td>\n",
       "      <td>184445635</td>\n",
       "      <td>6507148</td>\n",
       "      <td>0</td>\n",
       "      <td>76.89</td>\n",
       "      <td>460</td>\n",
       "      <td>NaN</td>\n",
       "      <td>NaN</td>\n",
       "      <td>2015-03-02 18:44:45.635</td>\n",
       "    </tr>\n",
       "    <tr>\n",
       "      <th>14203423</th>\n",
       "      <td>SBER</td>\n",
       "      <td>S</td>\n",
       "      <td>184450065</td>\n",
       "      <td>4533257</td>\n",
       "      <td>0</td>\n",
       "      <td>78.65</td>\n",
       "      <td>60</td>\n",
       "      <td>NaN</td>\n",
       "      <td>NaN</td>\n",
       "      <td>2015-03-02 18:44:50.065</td>\n",
       "    </tr>\n",
       "    <tr>\n",
       "      <th>14203435</th>\n",
       "      <td>SBER</td>\n",
       "      <td>B</td>\n",
       "      <td>184452004</td>\n",
       "      <td>1111987</td>\n",
       "      <td>0</td>\n",
       "      <td>75.01</td>\n",
       "      <td>1500</td>\n",
       "      <td>NaN</td>\n",
       "      <td>NaN</td>\n",
       "      <td>2015-03-02 18:44:52.004</td>\n",
       "    </tr>\n",
       "  </tbody>\n",
       "</table>\n",
       "<p>1018126 rows × 10 columns</p>\n",
       "</div>"
      ],
      "text/plain": [
       "         SECCODE BUYSELL       TIME  ORDERNO  ACTION  PRICE  VOLUME  TRADENO  \\\n",
       "NO                                                                             \n",
       "44          SBER       B  100000000       44       1  70.22      50      NaN   \n",
       "45          SBER       S  100000000       45       1  78.28      10      NaN   \n",
       "104         SBER       B  100000000      104       1  73.00  213000      NaN   \n",
       "109         SBER       S  100000000      109       1  76.49      20      NaN   \n",
       "111         SBER       S  100000000      111       1  77.33      10      NaN   \n",
       "...          ...     ...        ...      ...     ...    ...     ...      ...   \n",
       "14203332    SBER       B  184432649  6844637       0  75.42      10      NaN   \n",
       "14203377    SBER       B  184439644  6869081       0  76.03    1500      NaN   \n",
       "14203405    SBER       S  184445635  6507148       0  76.89     460      NaN   \n",
       "14203423    SBER       S  184450065  4533257       0  78.65      60      NaN   \n",
       "14203435    SBER       B  184452004  1111987       0  75.01    1500      NaN   \n",
       "\n",
       "          TRADEPRICE                DATETIME  \n",
       "NO                                            \n",
       "44               NaN 2015-03-02 10:00:00.000  \n",
       "45               NaN 2015-03-02 10:00:00.000  \n",
       "104              NaN 2015-03-02 10:00:00.000  \n",
       "109              NaN 2015-03-02 10:00:00.000  \n",
       "111              NaN 2015-03-02 10:00:00.000  \n",
       "...              ...                     ...  \n",
       "14203332         NaN 2015-03-02 18:44:32.649  \n",
       "14203377         NaN 2015-03-02 18:44:39.644  \n",
       "14203405         NaN 2015-03-02 18:44:45.635  \n",
       "14203423         NaN 2015-03-02 18:44:50.065  \n",
       "14203435         NaN 2015-03-02 18:44:52.004  \n",
       "\n",
       "[1018126 rows x 10 columns]"
      ]
     },
     "execution_count": 20,
     "metadata": {},
     "output_type": "execute_result"
    }
   ],
   "source": [
    "sber_orders_df"
   ]
  },
  {
   "cell_type": "code",
   "execution_count": 17,
   "metadata": {},
   "outputs": [
    {
     "name": "stderr",
     "output_type": "stream",
     "text": [
      "/var/folders/1w/n9kjkj8978d3_zpfkccf5yd40000gn/T/ipykernel_15530/2139509229.py:7: FutureWarning: A value is trying to be set on a copy of a DataFrame or Series through chained assignment using an inplace method.\n",
      "The behavior will change in pandas 3.0. This inplace method will never work because the intermediate object on which we are setting values always behaves as a copy.\n",
      "\n",
      "For example, when doing 'df[col].method(value, inplace=True)', try using 'df.method({col: value}, inplace=True)' or df[col] = df[col].method(value) instead, to perform the operation inplace on the original object.\n",
      "\n",
      "\n",
      "  merged_df.IS_ICEBERG.fillna(False, inplace=True)\n",
      "/var/folders/1w/n9kjkj8978d3_zpfkccf5yd40000gn/T/ipykernel_15530/2139509229.py:7: FutureWarning: Downcasting object dtype arrays on .fillna, .ffill, .bfill is deprecated and will change in a future version. Call result.infer_objects(copy=False) instead. To opt-in to the future behavior, set `pd.set_option('future.no_silent_downcasting', True)`\n",
      "  merged_df.IS_ICEBERG.fillna(False, inplace=True)\n"
     ]
    }
   ],
   "source": [
    "grouped_orders = sber_orders_df[sber_orders_df.ACTION == 2][['ORDERNO', 'VOLUME']].groupby('ORDERNO').sum('VOLUME')\n",
    "merged_df = sber_orders_df.merge(grouped_orders, left_on='ORDERNO', right_on='ORDERNO', how='left')\n",
    "icebergs = merged_df[(merged_df.VOLUME_y > merged_df.VOLUME_x) & (merged_df.ACTION == 1)][['ORDERNO']]\n",
    "icebergs.loc[:, 'IS_ICEBERG'] = np.True_\n",
    "merged_df = merged_df.merge(icebergs, left_on='ORDERNO', right_on='ORDERNO', how='left')\n",
    "merged_df.rename(columns={'VOLUME_x': 'VOLUME', 'VOLUME_y': 'VOLUME_SUM'}, inplace=True)\n",
    "merged_df.IS_ICEBERG.fillna(False, inplace=True)"
   ]
  },
  {
   "cell_type": "code",
   "execution_count": 26,
   "metadata": {},
   "outputs": [],
   "source": [
    "sber_orders_merged_with_trades = merged_df.merge(\n",
    "    trades_df[trades_df.SECCODE == 'SBER'].copy().drop(\n",
    "        columns=['SECCODE', 'TIME', 'PRICE', 'VOLUME', 'DATETIME']\n",
    "    ),\n",
    "    left_on='TRADENO',\n",
    "    right_on='TRADENO',\n",
    "    how='left',\n",
    ")"
   ]
  },
  {
   "cell_type": "code",
   "execution_count": 28,
   "metadata": {},
   "outputs": [
    {
     "data": {
      "text/plain": [
       "Index(['SECCODE', 'BUYSELL', 'TIME', 'ORDERNO', 'ACTION', 'PRICE', 'VOLUME',\n",
       "       'TRADENO', 'TRADEPRICE', 'DATETIME', 'VOLUME_SUM', 'IS_ICEBERG',\n",
       "       'BUYORDERNO', 'SELLORDERNO'],\n",
       "      dtype='object')"
      ]
     },
     "execution_count": 28,
     "metadata": {},
     "output_type": "execute_result"
    }
   ],
   "source": [
    "sber_orders_merged_with_trades[sber_orders_merged_with_trades.ACTION == 2].columns"
   ]
  },
  {
   "cell_type": "code",
   "execution_count": 14,
   "metadata": {},
   "outputs": [],
   "source": [
    "from collections import defaultdict\n",
    "from dataclasses import dataclass\n",
    "\n",
    "\n",
    "@dataclass\n",
    "class Order:\n",
    "    price: float\n",
    "    volume: int\n",
    "\n",
    "\n",
    "class OrderBook:\n",
    "    def __init__(self, price_max: float, price_min: float, price_delta: float):\n",
    "        self._buy_book = defaultdict(dict)\n",
    "        self._sell_book = defaultdict(dict)\n",
    "        self._top_buy = None\n",
    "        self._bottom_sell = None\n",
    "        self._price_delta = price_delta\n",
    "        self._price_max = price_max\n",
    "        self._price_min = price_min\n",
    "\n",
    "    def _find_bottom_sell(self) -> float:\n",
    "        bottom_sell = self._bottom_sell\n",
    "        while self._sell_book.get(bottom_sell) is None and bottom_sell <= self._price_max:\n",
    "            bottom_sell += self._price_delta\n",
    "        return bottom_sell\n",
    "\n",
    "    def _find_top_buy(self) -> float:\n",
    "        top_buy = self._top_buy\n",
    "        while self._buy_book.get(top_buy) is None and top_buy >= self._price_min:\n",
    "            top_buy -= self._price_delta\n",
    "        return top_buy\n",
    "    \n",
    "    def get_best_bid(self) -> float | None:\n",
    "        return self._top_buy\n",
    "    \n",
    "    def get_best_ask(self):\n",
    "        return self._bottom_sell\n",
    "    \n",
    "    def add_buy_order(self, price: float, orderno: int, volume: int):\n",
    "        if self._top_buy is None or price > self._top_buy:\n",
    "            self._top_buy = price\n",
    "        self._buy_book[price][orderno] = Order(price, volume)\n",
    "    \n",
    "    def add_sell_order(self, price: float, orderno: int, volume: int):\n",
    "        if self._bottom_sell is None or price < self._bottom_sell:\n",
    "            self._bottom_sell = price\n",
    "        self._sell_book[price][orderno] = Order(price, volume)\n",
    "    \n",
    "    def cancel_buy_order(self, price: float, orderno: int):\n",
    "        self._buy_book[price].pop(orderno)\n",
    "        if len(self._buy_book[price]) == 0:\n",
    "            self._buy_book.pop(price)\n",
    "        self._top_buy = self._find_top_buy()\n",
    "    \n",
    "    def cancel_sell_order(self, price: float, orderno: int):\n",
    "        self._sell_book[price].pop(orderno)\n",
    "        if len(self._sell_book[price]) == 0:\n",
    "            self._sell_book.pop(price)\n",
    "        self._bottom_sell = self._find_bottom_sell()\n",
    "\n",
    "    def trade_buy(\n",
    "            self,\n",
    "            price: float,\n",
    "            orderno: int,\n",
    "            volume: int,\n",
    "            is_iceberg: bool = False,\n",
    "    ):\n",
    "        self._buy_book[price][orderno].volume -= volume\n",
    "        if not is_iceberg:\n",
    "            assert self._buy_book[price][orderno].volume >= 0\n",
    "        if self._buy_book[price][orderno].volume == 0:\n",
    "            self._buy_book[price].pop(orderno)\n",
    "            if len(self._buy_book[price]) == 0:\n",
    "                self._buy_book.pop(price)\n",
    "        self._bottom_sell = self._find_bottom_sell()\n",
    "    \n",
    "    def trade_sell(\n",
    "            self,\n",
    "            price: float,\n",
    "            orderno: int,\n",
    "            volume: int,\n",
    "            is_iceberg: bool = False,\n",
    "    ):\n",
    "        self._sell_book[price][orderno].volume -= volume\n",
    "        if not is_iceberg:\n",
    "            assert self._sell_book[price][orderno].volume >= 0\n",
    "        if self._sell_book[price][orderno].volume == 0:\n",
    "            self._sell_book[price].pop(orderno)\n",
    "            if len(self._sell_book[price]) == 0:\n",
    "                self._sell_book.pop(price)\n",
    "        self._top_buy = self._find_top_buy()\n"
   ]
  },
  {
   "cell_type": "markdown",
   "metadata": {},
   "source": [
    "### Columns description\n",
    "![alt text](../images/fields_description.png \"moex columns\")"
   ]
  },
  {
   "cell_type": "code",
   "execution_count": 70,
   "metadata": {},
   "outputs": [],
   "source": [
    "from collections import defaultdict\n",
    "import math\n",
    "\n",
    "import tqdm\n",
    "\n",
    "\n",
    "best_bid = []\n",
    "best_ask = []\n",
    "cur_best_bid = None\n",
    "cur_best_ask = None\n",
    "\n",
    "price_max = 100\n",
    "price_min = 0\n",
    "price_delta = 0.01\n",
    "# order_book = OrderBook(price_max, price_min, price_delta)\n",
    "buy_book_volume = defaultdict(int)\n",
    "sell_book_volume = defaultdict(int)\n",
    "open_orders = defaultdict(int)\n",
    "\n",
    "\n",
    "def add_order(\n",
    "        price: float,\n",
    "        orderno: int,\n",
    "        volume: int,\n",
    "        buy_book_volume: dict,\n",
    "        sell_book_volume: dict,\n",
    "        open_orders: dict,\n",
    "        is_buy: bool,\n",
    "    ):\n",
    "    open_orders[orderno] += volume\n",
    "    if is_buy:\n",
    "        buy_book_volume[price] += volume\n",
    "    else:\n",
    "        sell_book_volume[price] += volume\n",
    "    # print(f'Adding order. Orderno: {orderno}. Volume: {volume}. Order volume: {open_orders[orderno]}')\n",
    "\n",
    "\n",
    "def cancel_order(\n",
    "        price: float,\n",
    "        orderno: int,\n",
    "        volume: int,\n",
    "        buy_book_volume: dict,\n",
    "        sell_book_volume: dict,\n",
    "        open_orders: dict,\n",
    "        is_buy: bool,\n",
    "    ):\n",
    "    if math.isclose(price, 0):\n",
    "        return\n",
    "    if orderno not in open_orders:\n",
    "        raise ValueError(f'Cannot cancel order {orderno}. Not in order book')\n",
    "    vol_diff = open_orders[orderno] - volume\n",
    "    if vol_diff < 0:\n",
    "        raise ValueError(f'Cannot cvancel order {orderno}. '\n",
    "                         'Volume after cancellation is less than zero')\n",
    "    if volume == 0:\n",
    "        open_orders.pop(orderno)\n",
    "    else:\n",
    "        open_orders[orderno] = volume\n",
    "    if is_buy:\n",
    "        buy_book_volume[price] -= vol_diff\n",
    "        if math.isclose(buy_book_volume[price], 0):\n",
    "            buy_book_volume.pop(price)\n",
    "    else:\n",
    "        sell_book_volume[price] -= vol_diff\n",
    "        if math.isclose(sell_book_volume[price], 0):\n",
    "            sell_book_volume.pop(price)\n",
    "    # print(f'Canceling order. Orderno: {orderno}. Volume: {volume}. Order volume: {open_orders[orderno]}')\n",
    "\n",
    "\n",
    "def trade(\n",
    "        price: float,\n",
    "        orderno: int,\n",
    "        volume: int,\n",
    "        book_volume: dict,\n",
    "        open_orders: dict,\n",
    "        tradeno: int,\n",
    "        is_iceberg: bool,\n",
    "    ):\n",
    "    if orderno not in open_orders:\n",
    "        raise ValueError(f'Order {orderno} does not exist.')\n",
    "    open_orders[orderno] -= volume\n",
    "    if math.isclose(open_orders[orderno], 0):\n",
    "        open_orders.pop(orderno)\n",
    "    if orderno in open_orders and open_orders[orderno] < 0 and not is_iceberg:\n",
    "        raise ValueError(f'Order\\'s {orderno} volume is negative: {open_orders[orderno]}. Tradeno: {tradeno}')\n",
    "    book_volume[price] -= volume\n",
    "    if math.isclose(book_volume[price], 0):\n",
    "        book_volume.pop(price)\n",
    "    if price in book_volume and book_volume[orderno] < 0 and not is_iceberg:\n",
    "        raise ValueError(f'Book\\'s level {price} volume is negative: {book_volume[orderno]}. Tradeno: {tradeno}')\n"
   ]
  },
  {
   "cell_type": "code",
   "execution_count": null,
   "metadata": {},
   "outputs": [],
   "source": []
  },
  {
   "cell_type": "code",
   "execution_count": 71,
   "metadata": {},
   "outputs": [
    {
     "name": "stderr",
     "output_type": "stream",
     "text": [
      "19903it [00:01, 26498.86it/s]"
     ]
    },
    {
     "name": "stdout",
     "output_type": "stream",
     "text": [
      "10000\n",
      "20000\n"
     ]
    },
    {
     "name": "stderr",
     "output_type": "stream",
     "text": [
      "39649it [00:01, 39498.82it/s]"
     ]
    },
    {
     "name": "stdout",
     "output_type": "stream",
     "text": [
      "30000\n",
      "40000\n"
     ]
    },
    {
     "name": "stderr",
     "output_type": "stream",
     "text": [
      "59843it [00:02, 47630.01it/s]"
     ]
    },
    {
     "name": "stdout",
     "output_type": "stream",
     "text": [
      "50000\n",
      "60000\n"
     ]
    },
    {
     "name": "stderr",
     "output_type": "stream",
     "text": [
      "79846it [00:02, 49356.81it/s]"
     ]
    },
    {
     "name": "stdout",
     "output_type": "stream",
     "text": [
      "70000\n",
      "80000\n"
     ]
    },
    {
     "name": "stderr",
     "output_type": "stream",
     "text": [
      "99891it [00:02, 49752.55it/s]"
     ]
    },
    {
     "name": "stdout",
     "output_type": "stream",
     "text": [
      "90000\n",
      "100000\n"
     ]
    },
    {
     "name": "stderr",
     "output_type": "stream",
     "text": [
      "120235it [00:03, 50666.00it/s]"
     ]
    },
    {
     "name": "stdout",
     "output_type": "stream",
     "text": [
      "110000\n",
      "120000\n"
     ]
    },
    {
     "name": "stderr",
     "output_type": "stream",
     "text": [
      "135680it [00:03, 51267.10it/s]"
     ]
    },
    {
     "name": "stdout",
     "output_type": "stream",
     "text": [
      "130000\n",
      "140000\n"
     ]
    },
    {
     "name": "stderr",
     "output_type": "stream",
     "text": [
      "156632it [00:04, 52091.57it/s]"
     ]
    },
    {
     "name": "stdout",
     "output_type": "stream",
     "text": [
      "150000\n"
     ]
    },
    {
     "name": "stderr",
     "output_type": "stream",
     "text": [
      "167039it [00:04, 47960.29it/s]"
     ]
    },
    {
     "name": "stdout",
     "output_type": "stream",
     "text": [
      "160000\n",
      "170000\n"
     ]
    },
    {
     "name": "stderr",
     "output_type": "stream",
     "text": [
      "187305it [00:04, 49790.22it/s]"
     ]
    },
    {
     "name": "stdout",
     "output_type": "stream",
     "text": [
      "180000\n",
      "190000\n"
     ]
    },
    {
     "name": "stderr",
     "output_type": "stream",
     "text": [
      "207815it [00:05, 51172.61it/s]"
     ]
    },
    {
     "name": "stdout",
     "output_type": "stream",
     "text": [
      "200000\n",
      "210000\n"
     ]
    },
    {
     "name": "stderr",
     "output_type": "stream",
     "text": [
      "228725it [00:05, 51971.27it/s]"
     ]
    },
    {
     "name": "stdout",
     "output_type": "stream",
     "text": [
      "220000\n",
      "230000\n"
     ]
    },
    {
     "name": "stderr",
     "output_type": "stream",
     "text": [
      "249194it [00:05, 50257.49it/s]"
     ]
    },
    {
     "name": "stdout",
     "output_type": "stream",
     "text": [
      "240000\n",
      "250000\n"
     ]
    },
    {
     "name": "stderr",
     "output_type": "stream",
     "text": [
      "269644it [00:06, 51018.52it/s]"
     ]
    },
    {
     "name": "stdout",
     "output_type": "stream",
     "text": [
      "260000\n",
      "270000\n"
     ]
    },
    {
     "name": "stderr",
     "output_type": "stream",
     "text": [
      "290000it [00:06, 47718.96it/s]"
     ]
    },
    {
     "name": "stdout",
     "output_type": "stream",
     "text": [
      "280000\n",
      "290000\n"
     ]
    },
    {
     "name": "stderr",
     "output_type": "stream",
     "text": [
      "309777it [00:07, 48992.68it/s]"
     ]
    },
    {
     "name": "stdout",
     "output_type": "stream",
     "text": [
      "300000\n",
      "310000\n"
     ]
    },
    {
     "name": "stderr",
     "output_type": "stream",
     "text": [
      "329987it [00:07, 50155.12it/s]"
     ]
    },
    {
     "name": "stdout",
     "output_type": "stream",
     "text": [
      "320000\n",
      "330000\n"
     ]
    },
    {
     "name": "stderr",
     "output_type": "stream",
     "text": [
      "350823it [00:07, 51042.68it/s]"
     ]
    },
    {
     "name": "stdout",
     "output_type": "stream",
     "text": [
      "340000\n",
      "350000\n"
     ]
    },
    {
     "name": "stderr",
     "output_type": "stream",
     "text": [
      "366035it [00:08, 50084.89it/s]"
     ]
    },
    {
     "name": "stdout",
     "output_type": "stream",
     "text": [
      "360000\n",
      "370000\n"
     ]
    },
    {
     "name": "stderr",
     "output_type": "stream",
     "text": [
      "386062it [00:08, 49762.01it/s]"
     ]
    },
    {
     "name": "stdout",
     "output_type": "stream",
     "text": [
      "380000\n",
      "390000\n"
     ]
    },
    {
     "name": "stderr",
     "output_type": "stream",
     "text": [
      "406009it [00:09, 45889.41it/s]"
     ]
    },
    {
     "name": "stdout",
     "output_type": "stream",
     "text": [
      "400000\n",
      "410000\n"
     ]
    },
    {
     "name": "stderr",
     "output_type": "stream",
     "text": [
      "425530it [00:09, 48040.71it/s]"
     ]
    },
    {
     "name": "stdout",
     "output_type": "stream",
     "text": [
      "420000\n",
      "430000\n"
     ]
    },
    {
     "name": "stderr",
     "output_type": "stream",
     "text": [
      "445686it [00:09, 50200.44it/s]"
     ]
    },
    {
     "name": "stdout",
     "output_type": "stream",
     "text": [
      "440000\n",
      "450000\n"
     ]
    },
    {
     "name": "stderr",
     "output_type": "stream",
     "text": [
      "466523it [00:10, 51620.32it/s]"
     ]
    },
    {
     "name": "stdout",
     "output_type": "stream",
     "text": [
      "460000\n",
      "470000\n"
     ]
    },
    {
     "name": "stderr",
     "output_type": "stream",
     "text": [
      "487381it [00:10, 51821.33it/s]"
     ]
    },
    {
     "name": "stdout",
     "output_type": "stream",
     "text": [
      "480000\n",
      "490000\n"
     ]
    },
    {
     "name": "stderr",
     "output_type": "stream",
     "text": [
      "508283it [00:11, 51918.45it/s]"
     ]
    },
    {
     "name": "stdout",
     "output_type": "stream",
     "text": [
      "500000\n",
      "510000\n"
     ]
    },
    {
     "name": "stderr",
     "output_type": "stream",
     "text": [
      "529160it [00:11, 49086.41it/s]"
     ]
    },
    {
     "name": "stdout",
     "output_type": "stream",
     "text": [
      "520000\n",
      "530000\n"
     ]
    },
    {
     "name": "stderr",
     "output_type": "stream",
     "text": [
      "549900it [00:12, 51046.63it/s]"
     ]
    },
    {
     "name": "stdout",
     "output_type": "stream",
     "text": [
      "540000\n",
      "550000\n"
     ]
    },
    {
     "name": "stderr",
     "output_type": "stream",
     "text": [
      "570725it [00:12, 51609.95it/s]"
     ]
    },
    {
     "name": "stdout",
     "output_type": "stream",
     "text": [
      "560000\n",
      "570000\n"
     ]
    },
    {
     "name": "stderr",
     "output_type": "stream",
     "text": [
      "586350it [00:12, 51675.63it/s]"
     ]
    },
    {
     "name": "stdout",
     "output_type": "stream",
     "text": [
      "580000\n",
      "590000\n"
     ]
    },
    {
     "name": "stderr",
     "output_type": "stream",
     "text": [
      "607220it [00:13, 51911.14it/s]"
     ]
    },
    {
     "name": "stdout",
     "output_type": "stream",
     "text": [
      "600000\n",
      "610000\n"
     ]
    },
    {
     "name": "stderr",
     "output_type": "stream",
     "text": [
      "628183it [00:13, 52077.72it/s]"
     ]
    },
    {
     "name": "stdout",
     "output_type": "stream",
     "text": [
      "620000\n",
      "630000\n"
     ]
    },
    {
     "name": "stderr",
     "output_type": "stream",
     "text": [
      "649076it [00:13, 49014.97it/s]"
     ]
    },
    {
     "name": "stdout",
     "output_type": "stream",
     "text": [
      "640000\n",
      "650000\n"
     ]
    },
    {
     "name": "stderr",
     "output_type": "stream",
     "text": [
      "669853it [00:14, 51240.71it/s]"
     ]
    },
    {
     "name": "stdout",
     "output_type": "stream",
     "text": [
      "660000\n",
      "670000\n"
     ]
    },
    {
     "name": "stderr",
     "output_type": "stream",
     "text": [
      "690742it [00:14, 51767.74it/s]"
     ]
    },
    {
     "name": "stdout",
     "output_type": "stream",
     "text": [
      "680000\n",
      "690000\n"
     ]
    },
    {
     "name": "stderr",
     "output_type": "stream",
     "text": [
      "706356it [00:15, 50957.09it/s]"
     ]
    },
    {
     "name": "stdout",
     "output_type": "stream",
     "text": [
      "700000\n",
      "710000\n"
     ]
    },
    {
     "name": "stderr",
     "output_type": "stream",
     "text": [
      "727101it [00:15, 51478.28it/s]"
     ]
    },
    {
     "name": "stdout",
     "output_type": "stream",
     "text": [
      "720000\n",
      "730000\n"
     ]
    },
    {
     "name": "stderr",
     "output_type": "stream",
     "text": [
      "747911it [00:15, 51680.91it/s]"
     ]
    },
    {
     "name": "stdout",
     "output_type": "stream",
     "text": [
      "740000\n",
      "750000\n"
     ]
    },
    {
     "name": "stderr",
     "output_type": "stream",
     "text": [
      "768695it [00:16, 47879.78it/s]"
     ]
    },
    {
     "name": "stdout",
     "output_type": "stream",
     "text": [
      "760000\n",
      "770000\n"
     ]
    },
    {
     "name": "stderr",
     "output_type": "stream",
     "text": [
      "789382it [00:16, 50863.75it/s]"
     ]
    },
    {
     "name": "stdout",
     "output_type": "stream",
     "text": [
      "780000\n",
      "790000\n"
     ]
    },
    {
     "name": "stderr",
     "output_type": "stream",
     "text": [
      "810186it [00:17, 51459.54it/s]"
     ]
    },
    {
     "name": "stdout",
     "output_type": "stream",
     "text": [
      "800000\n",
      "810000\n"
     ]
    },
    {
     "name": "stderr",
     "output_type": "stream",
     "text": [
      "825788it [00:17, 51341.87it/s]"
     ]
    },
    {
     "name": "stdout",
     "output_type": "stream",
     "text": [
      "820000\n",
      "830000\n"
     ]
    },
    {
     "name": "stderr",
     "output_type": "stream",
     "text": [
      "846636it [00:17, 51412.54it/s]"
     ]
    },
    {
     "name": "stdout",
     "output_type": "stream",
     "text": [
      "840000\n",
      "850000\n"
     ]
    },
    {
     "name": "stderr",
     "output_type": "stream",
     "text": [
      "867527it [00:18, 51931.91it/s]"
     ]
    },
    {
     "name": "stdout",
     "output_type": "stream",
     "text": [
      "860000\n",
      "870000\n"
     ]
    },
    {
     "name": "stderr",
     "output_type": "stream",
     "text": [
      "888373it [00:18, 46560.22it/s]"
     ]
    },
    {
     "name": "stdout",
     "output_type": "stream",
     "text": [
      "880000\n",
      "890000\n"
     ]
    },
    {
     "name": "stderr",
     "output_type": "stream",
     "text": [
      "909164it [00:19, 50656.99it/s]"
     ]
    },
    {
     "name": "stdout",
     "output_type": "stream",
     "text": [
      "900000\n",
      "910000\n"
     ]
    },
    {
     "name": "stderr",
     "output_type": "stream",
     "text": [
      "929766it [00:19, 50753.64it/s]"
     ]
    },
    {
     "name": "stdout",
     "output_type": "stream",
     "text": [
      "920000\n",
      "930000\n"
     ]
    },
    {
     "name": "stderr",
     "output_type": "stream",
     "text": [
      "950532it [00:19, 51360.16it/s]"
     ]
    },
    {
     "name": "stdout",
     "output_type": "stream",
     "text": [
      "940000\n",
      "950000\n"
     ]
    },
    {
     "name": "stderr",
     "output_type": "stream",
     "text": [
      "966230it [00:20, 51613.59it/s]"
     ]
    },
    {
     "name": "stdout",
     "output_type": "stream",
     "text": [
      "960000\n"
     ]
    },
    {
     "name": "stderr",
     "output_type": "stream",
     "text": [
      "981688it [00:20, 48822.10it/s]"
     ]
    },
    {
     "name": "stdout",
     "output_type": "stream",
     "text": [
      "970000\n",
      "980000\n"
     ]
    },
    {
     "name": "stderr",
     "output_type": "stream",
     "text": [
      "997189it [00:20, 50518.88it/s]"
     ]
    },
    {
     "name": "stdout",
     "output_type": "stream",
     "text": [
      "990000\n",
      "1000000\n"
     ]
    },
    {
     "name": "stderr",
     "output_type": "stream",
     "text": [
      "1018126it [00:21, 47881.36it/s]"
     ]
    },
    {
     "name": "stdout",
     "output_type": "stream",
     "text": [
      "1010000\n"
     ]
    },
    {
     "name": "stderr",
     "output_type": "stream",
     "text": [
      "\n"
     ]
    }
   ],
   "source": [
    "counter = 0\n",
    "\n",
    "for idx, row in tqdm.tqdm(sber_orders_merged_with_trades.iterrows()):\n",
    "    buysell = row['BUYSELL']\n",
    "    orderno = row['ORDERNO']\n",
    "    price = row['PRICE']\n",
    "    volume = row['VOLUME']\n",
    "    action = row['ACTION']\n",
    "    is_iceberg = row['IS_ICEBERG']\n",
    "    time = row['TIME']\n",
    "    buy_orderno = row['BUYORDERNO']\n",
    "    sell_orderno = row['SELLORDERNO']\n",
    "    tradeprice = row['TRADEPRICE']\n",
    "    tradeno = row['TRADENO']\n",
    "\n",
    "    if action == 0:\n",
    "        cancel_order(price, orderno, volume, buy_book_volume, sell_book_volume, open_orders, buysell == 'B')\n",
    "    elif action == 1:\n",
    "        add_order(price, orderno, volume, buy_book_volume, sell_book_volume, open_orders, buysell == 'B')\n",
    "    elif action == 2:\n",
    "        if buysell == 'B':\n",
    "            trade(price, orderno, volume, sell_book_volume, open_orders, tradeno, is_iceberg)\n",
    "        elif buysell == 'S':\n",
    "            trade(price, orderno, volume, buy_book_volume, open_orders, tradeno, is_iceberg)\n",
    "        else:\n",
    "            raise ValueError(f'Unknown Buy/Sell symbol: {buysell}')\n",
    "    else:\n",
    "        raise ValueError(f'Unknown action: {row[\"ACTION\"]}')\n",
    "    counter += 1\n",
    "    # print(best_bid, best_ask, time, action, price, buysell)\n",
    "    \n",
    "    # best_ask = min(sell_book_volume.keys()) if sell_book_volume else None\n",
    "    # best_bid = max(buy_book_volume.keys()) if buy_book_volume else None\n",
    "    if counter % 10000 == 0:\n",
    "        print(counter)\n"
   ]
  },
  {
   "cell_type": "code",
   "execution_count": 79,
   "metadata": {},
   "outputs": [],
   "source": [
    "from matplotlib import pyplot as plt\n",
    "\n",
    "def draw_order_book(buy_df, sell_df):   \n",
    "    # Create a single figure\n",
    "    fig, ax = plt.subplots(figsize=(12, 6))\n",
    "\n",
    "    # Plot buy order book\n",
    "    ax.hist(buy_df['price'], weights=buy_df['volume'], bins=50, alpha=0.5, label='Buy Orders')\n",
    "\n",
    "    ax.hist(sell_df['price'], weights=sell_df['volume'], bins=50, alpha=0.5, label='Sell Orders')\n",
    "\n",
    "    # Add vertical lines for best bid and ask\n",
    "    # ax.axvline(x=best_bid, color='g', linestyle='--', label='Best Bid')\n",
    "    # ax.axvline(x=best_ask, color='r', linestyle='--', label='Best Ask')\n",
    "\n",
    "    ax.set_xlabel('Price')\n",
    "    ax.set_ylabel('Volume')\n",
    "    ax.set_title('Order Book Volume Distribution')\n",
    "    ax.legend()\n",
    "\n",
    "    plt.tight_layout()\n",
    "    plt.show()"
   ]
  },
  {
   "cell_type": "code",
   "execution_count": 77,
   "metadata": {},
   "outputs": [],
   "source": [
    "buy_df = pd.DataFrame({\n",
    "    'price': list(buy_book_volume.keys()),\n",
    "    'volume': list(buy_book_volume.values())\n",
    "})\n",
    "\n",
    "sell_df = pd.DataFrame({\n",
    "    'price': list(sell_book_volume.keys()),\n",
    "    'volume': list(sell_book_volume.values())\n",
    "})"
   ]
  },
  {
   "cell_type": "code",
   "execution_count": 83,
   "metadata": {},
   "outputs": [
    {
     "data": {
      "text/plain": [
       "0             70.22\n",
       "1             73.00\n",
       "2             74.39\n",
       "3             75.26\n",
       "4             72.31\n",
       "            ...    \n",
       "50088    6920001.00\n",
       "50089    6920122.00\n",
       "50090    6920192.00\n",
       "50091    6920196.00\n",
       "50092    6920305.00\n",
       "Name: price, Length: 50093, dtype: float64"
      ]
     },
     "execution_count": 83,
     "metadata": {},
     "output_type": "execute_result"
    }
   ],
   "source": [
    "buy_df.price"
   ]
  },
  {
   "cell_type": "code",
   "execution_count": 90,
   "metadata": {},
   "outputs": [
    {
     "data": {
      "text/plain": [
       "np.float64(6920305.0)"
      ]
     },
     "execution_count": 90,
     "metadata": {},
     "output_type": "execute_result"
    }
   ],
   "source": [
    "buy_df.price.max()"
   ]
  },
  {
   "cell_type": "code",
   "execution_count": 89,
   "metadata": {},
   "outputs": [
    {
     "data": {
      "image/png": "[encoded data removed]",
      "text/plain": [
       "<Figure size 1200x600 with 1 Axes>"
      ]
     },
     "metadata": {},
     "output_type": "display_data"
    }
   ],
   "source": [
    "draw_order_book(buy_df[(buy_df.price < 80) & (buy_df.price > 74)], sell_df[(sell_df.price < 80) & (sell_df.price > 74)])"
   ]
  },
  {
   "cell_type": "code",
   "execution_count": 60,
   "metadata": {},
   "outputs": [
    {
     "data": {
      "text/html": [
       "<div>\n",
       "<style scoped>\n",
       "    .dataframe tbody tr th:only-of-type {\n",
       "        vertical-align: middle;\n",
       "    }\n",
       "\n",
       "    .dataframe tbody tr th {\n",
       "        vertical-align: top;\n",
       "    }\n",
       "\n",
       "    .dataframe thead th {\n",
       "        text-align: right;\n",
       "    }\n",
       "</style>\n",
       "<table border=\"1\" class=\"dataframe\">\n",
       "  <thead>\n",
       "    <tr style=\"text-align: right;\">\n",
       "      <th></th>\n",
       "      <th>SECCODE</th>\n",
       "      <th>BUYSELL</th>\n",
       "      <th>TIME</th>\n",
       "      <th>ORDERNO</th>\n",
       "      <th>ACTION</th>\n",
       "      <th>PRICE</th>\n",
       "      <th>VOLUME</th>\n",
       "      <th>TRADENO</th>\n",
       "      <th>TRADEPRICE</th>\n",
       "      <th>DATETIME</th>\n",
       "      <th>VOLUME_SUM</th>\n",
       "      <th>IS_ICEBERG</th>\n",
       "      <th>BUYORDERNO</th>\n",
       "      <th>SELLORDERNO</th>\n",
       "    </tr>\n",
       "  </thead>\n",
       "  <tbody>\n",
       "    <tr>\n",
       "      <th>882</th>\n",
       "      <td>SBER</td>\n",
       "      <td>B</td>\n",
       "      <td>100000733</td>\n",
       "      <td>10668</td>\n",
       "      <td>2</td>\n",
       "      <td>76.40</td>\n",
       "      <td>1000</td>\n",
       "      <td>2.460135e+09</td>\n",
       "      <td>76.36</td>\n",
       "      <td>2015-03-02 10:00:00.733</td>\n",
       "      <td>6980.0</td>\n",
       "      <td>True</td>\n",
       "      <td>10668.0</td>\n",
       "      <td>10452.0</td>\n",
       "    </tr>\n",
       "    <tr>\n",
       "      <th>883</th>\n",
       "      <td>SBER</td>\n",
       "      <td>S</td>\n",
       "      <td>100000733</td>\n",
       "      <td>10452</td>\n",
       "      <td>2</td>\n",
       "      <td>76.36</td>\n",
       "      <td>1000</td>\n",
       "      <td>2.460135e+09</td>\n",
       "      <td>76.36</td>\n",
       "      <td>2015-03-02 10:00:00.733</td>\n",
       "      <td>1000.0</td>\n",
       "      <td>False</td>\n",
       "      <td>10668.0</td>\n",
       "      <td>10452.0</td>\n",
       "    </tr>\n",
       "  </tbody>\n",
       "</table>\n",
       "</div>"
      ],
      "text/plain": [
       "    SECCODE BUYSELL       TIME  ORDERNO  ACTION  PRICE  VOLUME       TRADENO  \\\n",
       "882    SBER       B  100000733    10668       2  76.40    1000  2.460135e+09   \n",
       "883    SBER       S  100000733    10452       2  76.36    1000  2.460135e+09   \n",
       "\n",
       "     TRADEPRICE                DATETIME  VOLUME_SUM  IS_ICEBERG  BUYORDERNO  \\\n",
       "882       76.36 2015-03-02 10:00:00.733      6980.0        True     10668.0   \n",
       "883       76.36 2015-03-02 10:00:00.733      1000.0       False     10668.0   \n",
       "\n",
       "     SELLORDERNO  \n",
       "882      10452.0  \n",
       "883      10452.0  "
      ]
     },
     "execution_count": 60,
     "metadata": {},
     "output_type": "execute_result"
    }
   ],
   "source": [
    "sber_orders_merged_with_trades[sber_orders_merged_with_trades.TRADENO == 2460134764]"
   ]
  },
  {
   "cell_type": "code",
   "execution_count": 59,
   "metadata": {},
   "outputs": [
    {
     "data": {
      "text/html": [
       "<div>\n",
       "<style scoped>\n",
       "    .dataframe tbody tr th:only-of-type {\n",
       "        vertical-align: middle;\n",
       "    }\n",
       "\n",
       "    .dataframe tbody tr th {\n",
       "        vertical-align: top;\n",
       "    }\n",
       "\n",
       "    .dataframe thead th {\n",
       "        text-align: right;\n",
       "    }\n",
       "</style>\n",
       "<table border=\"1\" class=\"dataframe\">\n",
       "  <thead>\n",
       "    <tr style=\"text-align: right;\">\n",
       "      <th></th>\n",
       "      <th>SECCODE</th>\n",
       "      <th>BUYSELL</th>\n",
       "      <th>TIME</th>\n",
       "      <th>ORDERNO</th>\n",
       "      <th>ACTION</th>\n",
       "      <th>PRICE</th>\n",
       "      <th>VOLUME</th>\n",
       "      <th>TRADENO</th>\n",
       "      <th>TRADEPRICE</th>\n",
       "      <th>DATETIME</th>\n",
       "      <th>VOLUME_SUM</th>\n",
       "      <th>IS_ICEBERG</th>\n",
       "      <th>BUYORDERNO</th>\n",
       "      <th>SELLORDERNO</th>\n",
       "    </tr>\n",
       "  </thead>\n",
       "  <tbody>\n",
       "    <tr>\n",
       "      <th>879</th>\n",
       "      <td>SBER</td>\n",
       "      <td>B</td>\n",
       "      <td>100000733</td>\n",
       "      <td>10668</td>\n",
       "      <td>1</td>\n",
       "      <td>76.4</td>\n",
       "      <td>6440</td>\n",
       "      <td>NaN</td>\n",
       "      <td>NaN</td>\n",
       "      <td>2015-03-02 10:00:00.733</td>\n",
       "      <td>6980.0</td>\n",
       "      <td>True</td>\n",
       "      <td>NaN</td>\n",
       "      <td>NaN</td>\n",
       "    </tr>\n",
       "    <tr>\n",
       "      <th>880</th>\n",
       "      <td>SBER</td>\n",
       "      <td>B</td>\n",
       "      <td>100000733</td>\n",
       "      <td>10668</td>\n",
       "      <td>2</td>\n",
       "      <td>76.4</td>\n",
       "      <td>5980</td>\n",
       "      <td>2.460135e+09</td>\n",
       "      <td>76.35</td>\n",
       "      <td>2015-03-02 10:00:00.733</td>\n",
       "      <td>6980.0</td>\n",
       "      <td>True</td>\n",
       "      <td>10668.0</td>\n",
       "      <td>9868.0</td>\n",
       "    </tr>\n",
       "    <tr>\n",
       "      <th>882</th>\n",
       "      <td>SBER</td>\n",
       "      <td>B</td>\n",
       "      <td>100000733</td>\n",
       "      <td>10668</td>\n",
       "      <td>2</td>\n",
       "      <td>76.4</td>\n",
       "      <td>1000</td>\n",
       "      <td>2.460135e+09</td>\n",
       "      <td>76.36</td>\n",
       "      <td>2015-03-02 10:00:00.733</td>\n",
       "      <td>6980.0</td>\n",
       "      <td>True</td>\n",
       "      <td>10668.0</td>\n",
       "      <td>10452.0</td>\n",
       "    </tr>\n",
       "  </tbody>\n",
       "</table>\n",
       "</div>"
      ],
      "text/plain": [
       "    SECCODE BUYSELL       TIME  ORDERNO  ACTION  PRICE  VOLUME       TRADENO  \\\n",
       "879    SBER       B  100000733    10668       1   76.4    6440           NaN   \n",
       "880    SBER       B  100000733    10668       2   76.4    5980  2.460135e+09   \n",
       "882    SBER       B  100000733    10668       2   76.4    1000  2.460135e+09   \n",
       "\n",
       "     TRADEPRICE                DATETIME  VOLUME_SUM  IS_ICEBERG  BUYORDERNO  \\\n",
       "879         NaN 2015-03-02 10:00:00.733      6980.0        True         NaN   \n",
       "880       76.35 2015-03-02 10:00:00.733      6980.0        True     10668.0   \n",
       "882       76.36 2015-03-02 10:00:00.733      6980.0        True     10668.0   \n",
       "\n",
       "     SELLORDERNO  \n",
       "879          NaN  \n",
       "880       9868.0  \n",
       "882      10452.0  "
      ]
     },
     "execution_count": 59,
     "metadata": {},
     "output_type": "execute_result"
    }
   ],
   "source": [
    "sber_orders_merged_with_trades[sber_orders_merged_with_trades.ORDERNO == 10668]"
   ]
  },
  {
   "cell_type": "code",
   "execution_count": 61,
   "metadata": {},
   "outputs": [
    {
     "data": {
      "text/html": [
       "<div>\n",
       "<style scoped>\n",
       "    .dataframe tbody tr th:only-of-type {\n",
       "        vertical-align: middle;\n",
       "    }\n",
       "\n",
       "    .dataframe tbody tr th {\n",
       "        vertical-align: top;\n",
       "    }\n",
       "\n",
       "    .dataframe thead th {\n",
       "        text-align: right;\n",
       "    }\n",
       "</style>\n",
       "<table border=\"1\" class=\"dataframe\">\n",
       "  <thead>\n",
       "    <tr style=\"text-align: right;\">\n",
       "      <th></th>\n",
       "      <th>SECCODE</th>\n",
       "      <th>BUYSELL</th>\n",
       "      <th>TIME</th>\n",
       "      <th>ORDERNO</th>\n",
       "      <th>ACTION</th>\n",
       "      <th>PRICE</th>\n",
       "      <th>VOLUME</th>\n",
       "      <th>TRADENO</th>\n",
       "      <th>TRADEPRICE</th>\n",
       "      <th>DATETIME</th>\n",
       "      <th>VOLUME_SUM</th>\n",
       "      <th>IS_ICEBERG</th>\n",
       "      <th>BUYORDERNO</th>\n",
       "      <th>SELLORDERNO</th>\n",
       "    </tr>\n",
       "  </thead>\n",
       "  <tbody>\n",
       "    <tr>\n",
       "      <th>812</th>\n",
       "      <td>SBER</td>\n",
       "      <td>S</td>\n",
       "      <td>100000071</td>\n",
       "      <td>10452</td>\n",
       "      <td>1</td>\n",
       "      <td>76.36</td>\n",
       "      <td>1000</td>\n",
       "      <td>NaN</td>\n",
       "      <td>NaN</td>\n",
       "      <td>2015-03-02 10:00:00.071</td>\n",
       "      <td>1000.0</td>\n",
       "      <td>False</td>\n",
       "      <td>NaN</td>\n",
       "      <td>NaN</td>\n",
       "    </tr>\n",
       "    <tr>\n",
       "      <th>883</th>\n",
       "      <td>SBER</td>\n",
       "      <td>S</td>\n",
       "      <td>100000733</td>\n",
       "      <td>10452</td>\n",
       "      <td>2</td>\n",
       "      <td>76.36</td>\n",
       "      <td>1000</td>\n",
       "      <td>2.460135e+09</td>\n",
       "      <td>76.36</td>\n",
       "      <td>2015-03-02 10:00:00.733</td>\n",
       "      <td>1000.0</td>\n",
       "      <td>False</td>\n",
       "      <td>10668.0</td>\n",
       "      <td>10452.0</td>\n",
       "    </tr>\n",
       "  </tbody>\n",
       "</table>\n",
       "</div>"
      ],
      "text/plain": [
       "    SECCODE BUYSELL       TIME  ORDERNO  ACTION  PRICE  VOLUME       TRADENO  \\\n",
       "812    SBER       S  100000071    10452       1  76.36    1000           NaN   \n",
       "883    SBER       S  100000733    10452       2  76.36    1000  2.460135e+09   \n",
       "\n",
       "     TRADEPRICE                DATETIME  VOLUME_SUM  IS_ICEBERG  BUYORDERNO  \\\n",
       "812         NaN 2015-03-02 10:00:00.071      1000.0       False         NaN   \n",
       "883       76.36 2015-03-02 10:00:00.733      1000.0       False     10668.0   \n",
       "\n",
       "     SELLORDERNO  \n",
       "812          NaN  \n",
       "883      10452.0  "
      ]
     },
     "execution_count": 61,
     "metadata": {},
     "output_type": "execute_result"
    }
   ],
   "source": [
    "sber_orders_merged_with_trades[sber_orders_merged_with_trades.ORDERNO == 10452]"
   ]
  },
  {
   "cell_type": "code",
   "execution_count": 59,
   "metadata": {},
   "outputs": [
    {
     "data": {
      "text/plain": [
       "np.int64(183958)"
      ]
     },
     "execution_count": 59,
     "metadata": {},
     "output_type": "execute_result"
    }
   ],
   "source": [
    "trades_df[trades_df.SECCODE == 'SBER'].TIME.max()"
   ]
  },
  {
   "cell_type": "code",
   "execution_count": 25,
   "metadata": {},
   "outputs": [
    {
     "data": {
      "text/plain": [
       "(1994350, 9)"
      ]
     },
     "execution_count": 25,
     "metadata": {},
     "output_type": "execute_result"
    }
   ],
   "source": [
    "orders_df[orders_df['SECCODE'] == 'SBER'].shape"
   ]
  },
  {
   "cell_type": "code",
   "execution_count": 14,
   "metadata": {},
   "outputs": [
    {
     "data": {
      "text/plain": [
       "(82364, 7)"
      ]
     },
     "execution_count": 14,
     "metadata": {},
     "output_type": "execute_result"
    }
   ],
   "source": [
    "trades_df[trades_df['SECCODE'] == 'SBER'].shape"
   ]
  },
  {
   "cell_type": "code",
   "execution_count": 49,
   "metadata": {},
   "outputs": [
    {
     "data": {
      "text/plain": [
       "np.int64(184459956)"
      ]
     },
     "execution_count": 49,
     "metadata": {},
     "output_type": "execute_result"
    }
   ],
   "source": [
    "orders_df.TIME.max()"
   ]
  },
  {
   "cell_type": "code",
   "execution_count": 33,
   "metadata": {},
   "outputs": [
    {
     "data": {
      "text/plain": [
       "np.int64(204538)"
      ]
     },
     "execution_count": 33,
     "metadata": {},
     "output_type": "execute_result"
    }
   ],
   "source": [
    "orders_df[orders_df.SECCODE == 'SBER'].TRADENO.notna().sum()"
   ]
  },
  {
   "cell_type": "code",
   "execution_count": null,
   "metadata": {},
   "outputs": [],
   "source": [
    "full_channel_df.time = pd.to_datetime(full_channel_df.time)\n",
    "full_channel_df['timestamp'] = full_channel_df['time'].astype('int64')\n",
    "\n",
    "ticker_df.time = pd.to_datetime(ticker_df.time)\n",
    "ticker_df['timestamp'] = ticker_df['time'].astype('int64')"
   ]
  }
 ],
 "metadata": {
  "kernelspec": {
   "display_name": "spoofing_detection",
   "language": "python",
   "name": "python3"
  },
  "language_info": {
   "codemirror_mode": {
    "name": "ipython",
    "version": 3
   },
   "file_extension": ".py",
   "mimetype": "text/x-python",
   "name": "python",
   "nbconvert_exporter": "python",
   "pygments_lexer": "ipython3",
   "version": "3.11.0"
  }
 },
 "nbformat": 4,
 "nbformat_minor": 2
}
