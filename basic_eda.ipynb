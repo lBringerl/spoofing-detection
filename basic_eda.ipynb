{
 "cells": [
  {
   "cell_type": "code",
   "execution_count": 5,
   "metadata": {},
   "outputs": [],
   "source": [
    "import pandas as pd"
   ]
  },
  {
   "cell_type": "code",
   "execution_count": 75,
   "metadata": {},
   "outputs": [],
   "source": [
    "full_channel_df = pd.read_json('workspace/BTC_FullChannel_GDAX_20221128_16hr.json', lines=True)"
   ]
  },
  {
   "cell_type": "code",
   "execution_count": 76,
   "metadata": {},
   "outputs": [],
   "source": [
    "ticker_df = pd.read_json('workspace/BTC_Ticker_GDAX_20221128_16hr.json', lines=True)"
   ]
  },
  {
   "cell_type": "code",
   "execution_count": 77,
   "metadata": {},
   "outputs": [
    {
     "data": {
      "text/plain": [
       "Index(['order_id', 'reason', 'price', 'remaining_size', 'type', 'side',\n",
       "       'product_id', 'time', 'sequence', 'order_type', 'size', 'client_oid',\n",
       "       'trade_id', 'maker_order_id', 'taker_order_id', 'funds', 'old_size',\n",
       "       'new_size'],\n",
       "      dtype='object')"
      ]
     },
     "execution_count": 77,
     "metadata": {},
     "output_type": "execute_result"
    }
   ],
   "source": [
    "full_channel_df.columns"
   ]
  },
  {
   "cell_type": "code",
   "execution_count": 94,
   "metadata": {},
   "outputs": [],
   "source": [
    "full_channel_df.time = pd.to_datetime(full_channel_df.time)\n",
    "full_channel_df['timestamp'] = full_channel_df['time'].astype('int64')\n",
    "\n",
    "ticker_df.time = pd.to_datetime(ticker_df.time)\n",
    "ticker_df['timestamp'] = ticker_df['time'].astype('int64')"
   ]
  },
  {
   "cell_type": "code",
   "execution_count": 95,
   "metadata": {},
   "outputs": [],
   "source": [
    "full_channel_df = full_channel_df.sort_values(by='timestamp')\n",
    "ticker_df = ticker_df.sort_values(by='timestamp')"
   ]
  },
  {
   "cell_type": "code",
   "execution_count": 80,
   "metadata": {},
   "outputs": [
    {
     "data": {
      "text/plain": [
       "count                                2742118\n",
       "mean     2022-11-28 16:29:28.831980032+00:00\n",
       "min         2022-11-28 15:59:44.575431+00:00\n",
       "25%      2022-11-28 16:16:00.510982912+00:00\n",
       "50%      2022-11-28 16:27:55.734088448+00:00\n",
       "75%      2022-11-28 16:44:48.903901696+00:00\n",
       "max         2022-11-28 16:57:32.297459+00:00\n",
       "Name: time, dtype: object"
      ]
     },
     "execution_count": 80,
     "metadata": {},
     "output_type": "execute_result"
    }
   ],
   "source": [
    "full_channel_df.time.describe()"
   ]
  },
  {
   "cell_type": "code",
   "execution_count": 81,
   "metadata": {},
   "outputs": [
    {
     "data": {
      "text/plain": [
       "order_id          2696392\n",
       "reason             912060\n",
       "price             2741488\n",
       "remaining_size    1785146\n",
       "type              2742118\n",
       "side              2742118\n",
       "product_id        2742118\n",
       "time              2742118\n",
       "sequence          2742118\n",
       "order_type         911241\n",
       "size               956746\n",
       "client_oid         911241\n",
       "trade_id            45726\n",
       "maker_order_id      45726\n",
       "taker_order_id      45726\n",
       "funds                 238\n",
       "old_size                5\n",
       "new_size                5\n",
       "timestamp         2742118\n",
       "dtype: int64"
      ]
     },
     "execution_count": 81,
     "metadata": {},
     "output_type": "execute_result"
    }
   ],
   "source": [
    "full_channel_df.count()"
   ]
  },
  {
   "cell_type": "code",
   "execution_count": 82,
   "metadata": {},
   "outputs": [
    {
     "data": {
      "text/html": [
       "<div>\n",
       "<style scoped>\n",
       "    .dataframe tbody tr th:only-of-type {\n",
       "        vertical-align: middle;\n",
       "    }\n",
       "\n",
       "    .dataframe tbody tr th {\n",
       "        vertical-align: top;\n",
       "    }\n",
       "\n",
       "    .dataframe thead th {\n",
       "        text-align: right;\n",
       "    }\n",
       "</style>\n",
       "<table border=\"1\" class=\"dataframe\">\n",
       "  <thead>\n",
       "    <tr style=\"text-align: right;\">\n",
       "      <th></th>\n",
       "      <th>order_id</th>\n",
       "      <th>reason</th>\n",
       "      <th>price</th>\n",
       "      <th>remaining_size</th>\n",
       "      <th>type</th>\n",
       "      <th>side</th>\n",
       "      <th>product_id</th>\n",
       "      <th>time</th>\n",
       "      <th>sequence</th>\n",
       "      <th>order_type</th>\n",
       "      <th>size</th>\n",
       "      <th>client_oid</th>\n",
       "      <th>trade_id</th>\n",
       "      <th>maker_order_id</th>\n",
       "      <th>taker_order_id</th>\n",
       "      <th>funds</th>\n",
       "      <th>old_size</th>\n",
       "      <th>new_size</th>\n",
       "      <th>timestamp</th>\n",
       "    </tr>\n",
       "  </thead>\n",
       "  <tbody>\n",
       "    <tr>\n",
       "      <th>0</th>\n",
       "      <td>f8bd540c-dce0-4d73-9d83-bc3fa8e16d2d</td>\n",
       "      <td>canceled</td>\n",
       "      <td>16124.00</td>\n",
       "      <td>0.049615</td>\n",
       "      <td>done</td>\n",
       "      <td>buy</td>\n",
       "      <td>BTC-USD</td>\n",
       "      <td>2022-11-28 15:59:44.575431+00:00</td>\n",
       "      <td>50873884377</td>\n",
       "      <td>NaN</td>\n",
       "      <td>NaN</td>\n",
       "      <td>NaN</td>\n",
       "      <td>NaN</td>\n",
       "      <td>NaN</td>\n",
       "      <td>NaN</td>\n",
       "      <td>NaN</td>\n",
       "      <td>NaN</td>\n",
       "      <td>NaN</td>\n",
       "      <td>1669651184575431000</td>\n",
       "    </tr>\n",
       "    <tr>\n",
       "      <th>1</th>\n",
       "      <td>ea74cf26-60ef-4169-b033-0c9b20aade90</td>\n",
       "      <td>NaN</td>\n",
       "      <td>16135.12</td>\n",
       "      <td>NaN</td>\n",
       "      <td>received</td>\n",
       "      <td>buy</td>\n",
       "      <td>BTC-USD</td>\n",
       "      <td>2022-11-28 15:59:44.581420+00:00</td>\n",
       "      <td>50873884378</td>\n",
       "      <td>limit</td>\n",
       "      <td>0.04307</td>\n",
       "      <td>20221128-0000-0000-0002-000000045869</td>\n",
       "      <td>NaN</td>\n",
       "      <td>NaN</td>\n",
       "      <td>NaN</td>\n",
       "      <td>NaN</td>\n",
       "      <td>NaN</td>\n",
       "      <td>NaN</td>\n",
       "      <td>1669651184581420000</td>\n",
       "    </tr>\n",
       "    <tr>\n",
       "      <th>2</th>\n",
       "      <td>NaN</td>\n",
       "      <td>NaN</td>\n",
       "      <td>16135.12</td>\n",
       "      <td>NaN</td>\n",
       "      <td>match</td>\n",
       "      <td>sell</td>\n",
       "      <td>BTC-USD</td>\n",
       "      <td>2022-11-28 15:59:44.581420+00:00</td>\n",
       "      <td>50873884379</td>\n",
       "      <td>NaN</td>\n",
       "      <td>0.04307</td>\n",
       "      <td>NaN</td>\n",
       "      <td>462208805.0</td>\n",
       "      <td>d5648948-e020-42ef-98d2-02ceeb505d0c</td>\n",
       "      <td>ea74cf26-60ef-4169-b033-0c9b20aade90</td>\n",
       "      <td>NaN</td>\n",
       "      <td>NaN</td>\n",
       "      <td>NaN</td>\n",
       "      <td>1669651184581420000</td>\n",
       "    </tr>\n",
       "    <tr>\n",
       "      <th>3</th>\n",
       "      <td>ea74cf26-60ef-4169-b033-0c9b20aade90</td>\n",
       "      <td>filled</td>\n",
       "      <td>16135.12</td>\n",
       "      <td>0.000000</td>\n",
       "      <td>done</td>\n",
       "      <td>buy</td>\n",
       "      <td>BTC-USD</td>\n",
       "      <td>2022-11-28 15:59:44.581420+00:00</td>\n",
       "      <td>50873884380</td>\n",
       "      <td>NaN</td>\n",
       "      <td>NaN</td>\n",
       "      <td>NaN</td>\n",
       "      <td>NaN</td>\n",
       "      <td>NaN</td>\n",
       "      <td>NaN</td>\n",
       "      <td>NaN</td>\n",
       "      <td>NaN</td>\n",
       "      <td>NaN</td>\n",
       "      <td>1669651184581420000</td>\n",
       "    </tr>\n",
       "    <tr>\n",
       "      <th>4</th>\n",
       "      <td>3c3295e1-5201-45d1-969d-f252396d81d2</td>\n",
       "      <td>NaN</td>\n",
       "      <td>16133.41</td>\n",
       "      <td>NaN</td>\n",
       "      <td>received</td>\n",
       "      <td>buy</td>\n",
       "      <td>BTC-USD</td>\n",
       "      <td>2022-11-28 15:59:44.585097+00:00</td>\n",
       "      <td>50873884381</td>\n",
       "      <td>limit</td>\n",
       "      <td>0.25000</td>\n",
       "      <td>53685441-1c9c-4def-9877-90beae502b3f</td>\n",
       "      <td>NaN</td>\n",
       "      <td>NaN</td>\n",
       "      <td>NaN</td>\n",
       "      <td>NaN</td>\n",
       "      <td>NaN</td>\n",
       "      <td>NaN</td>\n",
       "      <td>1669651184585097000</td>\n",
       "    </tr>\n",
       "  </tbody>\n",
       "</table>\n",
       "</div>"
      ],
      "text/plain": [
       "                               order_id    reason     price  remaining_size  \\\n",
       "0  f8bd540c-dce0-4d73-9d83-bc3fa8e16d2d  canceled  16124.00        0.049615   \n",
       "1  ea74cf26-60ef-4169-b033-0c9b20aade90       NaN  16135.12             NaN   \n",
       "2                                   NaN       NaN  16135.12             NaN   \n",
       "3  ea74cf26-60ef-4169-b033-0c9b20aade90    filled  16135.12        0.000000   \n",
       "4  3c3295e1-5201-45d1-969d-f252396d81d2       NaN  16133.41             NaN   \n",
       "\n",
       "       type  side product_id                             time     sequence  \\\n",
       "0      done   buy    BTC-USD 2022-11-28 15:59:44.575431+00:00  50873884377   \n",
       "1  received   buy    BTC-USD 2022-11-28 15:59:44.581420+00:00  50873884378   \n",
       "2     match  sell    BTC-USD 2022-11-28 15:59:44.581420+00:00  50873884379   \n",
       "3      done   buy    BTC-USD 2022-11-28 15:59:44.581420+00:00  50873884380   \n",
       "4  received   buy    BTC-USD 2022-11-28 15:59:44.585097+00:00  50873884381   \n",
       "\n",
       "  order_type     size                            client_oid     trade_id  \\\n",
       "0        NaN      NaN                                   NaN          NaN   \n",
       "1      limit  0.04307  20221128-0000-0000-0002-000000045869          NaN   \n",
       "2        NaN  0.04307                                   NaN  462208805.0   \n",
       "3        NaN      NaN                                   NaN          NaN   \n",
       "4      limit  0.25000  53685441-1c9c-4def-9877-90beae502b3f          NaN   \n",
       "\n",
       "                         maker_order_id                        taker_order_id  \\\n",
       "0                                   NaN                                   NaN   \n",
       "1                                   NaN                                   NaN   \n",
       "2  d5648948-e020-42ef-98d2-02ceeb505d0c  ea74cf26-60ef-4169-b033-0c9b20aade90   \n",
       "3                                   NaN                                   NaN   \n",
       "4                                   NaN                                   NaN   \n",
       "\n",
       "   funds  old_size  new_size            timestamp  \n",
       "0    NaN       NaN       NaN  1669651184575431000  \n",
       "1    NaN       NaN       NaN  1669651184581420000  \n",
       "2    NaN       NaN       NaN  1669651184581420000  \n",
       "3    NaN       NaN       NaN  1669651184581420000  \n",
       "4    NaN       NaN       NaN  1669651184585097000  "
      ]
     },
     "execution_count": 82,
     "metadata": {},
     "output_type": "execute_result"
    }
   ],
   "source": [
    "full_channel_df.head()"
   ]
  },
  {
   "cell_type": "code",
   "execution_count": 83,
   "metadata": {},
   "outputs": [
    {
     "data": {
      "text/plain": [
       "0    1669651184575431000\n",
       "1    1669651184581420000\n",
       "2    1669651184581420000\n",
       "3    1669651184581420000\n",
       "4    1669651184585097000\n",
       "Name: timestamp, dtype: int64"
      ]
     },
     "execution_count": 83,
     "metadata": {},
     "output_type": "execute_result"
    }
   ],
   "source": [
    "full_channel_df.timestamp.head()"
   ]
  },
  {
   "cell_type": "code",
   "execution_count": 93,
   "metadata": {},
   "outputs": [
    {
     "data": {
      "text/plain": [
       "Index(['type', 'sequence', 'product_id', 'price', 'open_24h', 'volume_24h',\n",
       "       'low_24h', 'high_24h', 'volume_30d', 'best_bid', 'best_bid_size',\n",
       "       'best_ask', 'best_ask_size', 'side', 'time', 'trade_id', 'last_size'],\n",
       "      dtype='object')"
      ]
     },
     "execution_count": 93,
     "metadata": {},
     "output_type": "execute_result"
    }
   ],
   "source": [
    "ticker_df.columns"
   ]
  },
  {
   "cell_type": "code",
   "execution_count": 96,
   "metadata": {},
   "outputs": [
    {
     "data": {
      "text/html": [
       "<div>\n",
       "<style scoped>\n",
       "    .dataframe tbody tr th:only-of-type {\n",
       "        vertical-align: middle;\n",
       "    }\n",
       "\n",
       "    .dataframe tbody tr th {\n",
       "        vertical-align: top;\n",
       "    }\n",
       "\n",
       "    .dataframe thead th {\n",
       "        text-align: right;\n",
       "    }\n",
       "</style>\n",
       "<table border=\"1\" class=\"dataframe\">\n",
       "  <thead>\n",
       "    <tr style=\"text-align: right;\">\n",
       "      <th></th>\n",
       "      <th>type</th>\n",
       "      <th>sequence</th>\n",
       "      <th>product_id</th>\n",
       "      <th>price</th>\n",
       "      <th>open_24h</th>\n",
       "      <th>volume_24h</th>\n",
       "      <th>low_24h</th>\n",
       "      <th>high_24h</th>\n",
       "      <th>volume_30d</th>\n",
       "      <th>best_bid</th>\n",
       "      <th>best_bid_size</th>\n",
       "      <th>best_ask</th>\n",
       "      <th>best_ask_size</th>\n",
       "      <th>side</th>\n",
       "      <th>time</th>\n",
       "      <th>trade_id</th>\n",
       "      <th>last_size</th>\n",
       "      <th>timestamp</th>\n",
       "    </tr>\n",
       "  </thead>\n",
       "  <tbody>\n",
       "    <tr>\n",
       "      <th>0</th>\n",
       "      <td>ticker</td>\n",
       "      <td>50873887939</td>\n",
       "      <td>BTC-USD</td>\n",
       "      <td>16135.80</td>\n",
       "      <td>16564.49</td>\n",
       "      <td>23874.549553</td>\n",
       "      <td>16044.99</td>\n",
       "      <td>16588.46</td>\n",
       "      <td>1.053822e+06</td>\n",
       "      <td>16134.97</td>\n",
       "      <td>0.029699</td>\n",
       "      <td>16135.80</td>\n",
       "      <td>0.025891</td>\n",
       "      <td>buy</td>\n",
       "      <td>2022-11-28 15:59:54.510812+00:00</td>\n",
       "      <td>462208903</td>\n",
       "      <td>0.000056</td>\n",
       "      <td>1669651194510812000</td>\n",
       "    </tr>\n",
       "    <tr>\n",
       "      <th>1</th>\n",
       "      <td>ticker</td>\n",
       "      <td>50873887955</td>\n",
       "      <td>BTC-USD</td>\n",
       "      <td>16135.79</td>\n",
       "      <td>16564.49</td>\n",
       "      <td>23874.551463</td>\n",
       "      <td>16044.99</td>\n",
       "      <td>16588.46</td>\n",
       "      <td>1.053822e+06</td>\n",
       "      <td>16134.97</td>\n",
       "      <td>0.029699</td>\n",
       "      <td>16135.79</td>\n",
       "      <td>0.000001</td>\n",
       "      <td>buy</td>\n",
       "      <td>2022-11-28 15:59:54.553491+00:00</td>\n",
       "      <td>462208904</td>\n",
       "      <td>0.001910</td>\n",
       "      <td>1669651194553491000</td>\n",
       "    </tr>\n",
       "    <tr>\n",
       "      <th>2</th>\n",
       "      <td>ticker</td>\n",
       "      <td>50873887963</td>\n",
       "      <td>BTC-USD</td>\n",
       "      <td>16135.79</td>\n",
       "      <td>16564.49</td>\n",
       "      <td>23874.551464</td>\n",
       "      <td>16044.99</td>\n",
       "      <td>16588.46</td>\n",
       "      <td>1.053822e+06</td>\n",
       "      <td>16134.97</td>\n",
       "      <td>0.029699</td>\n",
       "      <td>16135.80</td>\n",
       "      <td>0.025891</td>\n",
       "      <td>buy</td>\n",
       "      <td>2022-11-28 15:59:54.566656+00:00</td>\n",
       "      <td>462208905</td>\n",
       "      <td>0.000001</td>\n",
       "      <td>1669651194566656000</td>\n",
       "    </tr>\n",
       "    <tr>\n",
       "      <th>3</th>\n",
       "      <td>ticker</td>\n",
       "      <td>50873887965</td>\n",
       "      <td>BTC-USD</td>\n",
       "      <td>16135.80</td>\n",
       "      <td>16564.49</td>\n",
       "      <td>23874.577353</td>\n",
       "      <td>16044.99</td>\n",
       "      <td>16588.46</td>\n",
       "      <td>1.053822e+06</td>\n",
       "      <td>16134.97</td>\n",
       "      <td>0.029699</td>\n",
       "      <td>16135.80</td>\n",
       "      <td>0.000002</td>\n",
       "      <td>buy</td>\n",
       "      <td>2022-11-28 15:59:54.566656+00:00</td>\n",
       "      <td>462208906</td>\n",
       "      <td>0.025889</td>\n",
       "      <td>1669651194566656000</td>\n",
       "    </tr>\n",
       "    <tr>\n",
       "      <th>4</th>\n",
       "      <td>ticker</td>\n",
       "      <td>50873888219</td>\n",
       "      <td>BTC-USD</td>\n",
       "      <td>16136.67</td>\n",
       "      <td>16564.49</td>\n",
       "      <td>23874.579264</td>\n",
       "      <td>16044.99</td>\n",
       "      <td>16588.46</td>\n",
       "      <td>1.053822e+06</td>\n",
       "      <td>16135.46</td>\n",
       "      <td>0.003563</td>\n",
       "      <td>16136.67</td>\n",
       "      <td>0.015000</td>\n",
       "      <td>buy</td>\n",
       "      <td>2022-11-28 15:59:55.037482+00:00</td>\n",
       "      <td>462208907</td>\n",
       "      <td>0.001911</td>\n",
       "      <td>1669651195037482000</td>\n",
       "    </tr>\n",
       "  </tbody>\n",
       "</table>\n",
       "</div>"
      ],
      "text/plain": [
       "     type     sequence product_id     price  open_24h    volume_24h   low_24h  \\\n",
       "0  ticker  50873887939    BTC-USD  16135.80  16564.49  23874.549553  16044.99   \n",
       "1  ticker  50873887955    BTC-USD  16135.79  16564.49  23874.551463  16044.99   \n",
       "2  ticker  50873887963    BTC-USD  16135.79  16564.49  23874.551464  16044.99   \n",
       "3  ticker  50873887965    BTC-USD  16135.80  16564.49  23874.577353  16044.99   \n",
       "4  ticker  50873888219    BTC-USD  16136.67  16564.49  23874.579264  16044.99   \n",
       "\n",
       "   high_24h    volume_30d  best_bid  best_bid_size  best_ask  best_ask_size  \\\n",
       "0  16588.46  1.053822e+06  16134.97       0.029699  16135.80       0.025891   \n",
       "1  16588.46  1.053822e+06  16134.97       0.029699  16135.79       0.000001   \n",
       "2  16588.46  1.053822e+06  16134.97       0.029699  16135.80       0.025891   \n",
       "3  16588.46  1.053822e+06  16134.97       0.029699  16135.80       0.000002   \n",
       "4  16588.46  1.053822e+06  16135.46       0.003563  16136.67       0.015000   \n",
       "\n",
       "  side                             time   trade_id  last_size  \\\n",
       "0  buy 2022-11-28 15:59:54.510812+00:00  462208903   0.000056   \n",
       "1  buy 2022-11-28 15:59:54.553491+00:00  462208904   0.001910   \n",
       "2  buy 2022-11-28 15:59:54.566656+00:00  462208905   0.000001   \n",
       "3  buy 2022-11-28 15:59:54.566656+00:00  462208906   0.025889   \n",
       "4  buy 2022-11-28 15:59:55.037482+00:00  462208907   0.001911   \n",
       "\n",
       "             timestamp  \n",
       "0  1669651194510812000  \n",
       "1  1669651194553491000  \n",
       "2  1669651194566656000  \n",
       "3  1669651194566656000  \n",
       "4  1669651195037482000  "
      ]
     },
     "execution_count": 96,
     "metadata": {},
     "output_type": "execute_result"
    }
   ],
   "source": [
    "ticker_df.head()"
   ]
  },
  {
   "cell_type": "code",
   "execution_count": 118,
   "metadata": {},
   "outputs": [],
   "source": [
    "price_df = ticker_df[['timestamp', 'price', 'best_bid', 'best_ask', 'time']].copy()\n",
    "price_df['mid_price'] = (price_df['best_bid'] + price_df['best_ask']) / 2"
   ]
  },
  {
   "cell_type": "code",
   "execution_count": 114,
   "metadata": {},
   "outputs": [],
   "source": [
    "delta_t_ns = 1_000_000_000\n",
    "start_t_ns = price_df.timestamp.min()\n",
    "end_t_ns = price_df.timestamp.max()"
   ]
  },
  {
   "cell_type": "code",
   "execution_count": 120,
   "metadata": {},
   "outputs": [
    {
     "name": "stdout",
     "output_type": "stream",
     "text": [
      "Collecting matplotlib\n",
      "  Downloading matplotlib-3.10.1-cp312-cp312-manylinux_2_17_x86_64.manylinux2014_x86_64.whl.metadata (11 kB)\n",
      "Collecting contourpy>=1.0.1 (from matplotlib)\n",
      "  Downloading contourpy-1.3.1-cp312-cp312-manylinux_2_17_x86_64.manylinux2014_x86_64.whl.metadata (5.4 kB)\n",
      "Collecting cycler>=0.10 (from matplotlib)\n",
      "  Downloading cycler-0.12.1-py3-none-any.whl.metadata (3.8 kB)\n",
      "Collecting fonttools>=4.22.0 (from matplotlib)\n",
      "  Downloading fonttools-4.57.0-cp312-cp312-manylinux_2_5_x86_64.manylinux1_x86_64.manylinux_2_17_x86_64.manylinux2014_x86_64.whl.metadata (102 kB)\n",
      "\u001b[2K     \u001b[90m━━━━━━━━━━━━━━━━━━━━━━━━━━━━━━━━━━━━━\u001b[0m \u001b[32m102.5/102.5 kB\u001b[0m \u001b[31m524.0 kB/s\u001b[0m eta \u001b[36m0:00:00\u001b[0m00:01\u001b[0m00:01\u001b[0m\n",
      "\u001b[?25hCollecting kiwisolver>=1.3.1 (from matplotlib)\n",
      "  Downloading kiwisolver-1.4.8-cp312-cp312-manylinux_2_17_x86_64.manylinux2014_x86_64.whl.metadata (6.2 kB)\n",
      "Requirement already satisfied: numpy>=1.23 in ./.venv/lib/python3.12/site-packages (from matplotlib) (2.2.4)\n",
      "Requirement already satisfied: packaging>=20.0 in ./.venv/lib/python3.12/site-packages (from matplotlib) (24.2)\n",
      "Collecting pillow>=8 (from matplotlib)\n",
      "  Downloading pillow-11.2.1-cp312-cp312-manylinux_2_28_x86_64.whl.metadata (8.9 kB)\n",
      "Requirement already satisfied: pyparsing>=2.3.1 in /usr/lib/python3/dist-packages (from matplotlib) (3.1.1)\n",
      "Requirement already satisfied: python-dateutil>=2.7 in ./.venv/lib/python3.12/site-packages (from matplotlib) (2.9.0.post0)\n",
      "Requirement already satisfied: six>=1.5 in ./.venv/lib/python3.12/site-packages (from python-dateutil>=2.7->matplotlib) (1.17.0)\n",
      "Downloading matplotlib-3.10.1-cp312-cp312-manylinux_2_17_x86_64.manylinux2014_x86_64.whl (8.6 MB)\n",
      "\u001b[2K   \u001b[90m━━━━━━━━━━━━━━━━━━━━━━━━━━━━━━━━━━━━━━━━\u001b[0m \u001b[32m8.6/8.6 MB\u001b[0m \u001b[31m24.5 MB/s\u001b[0m eta \u001b[36m0:00:00\u001b[0m00:01\u001b[0m00:01\u001b[0m\n",
      "\u001b[?25hDownloading contourpy-1.3.1-cp312-cp312-manylinux_2_17_x86_64.manylinux2014_x86_64.whl (323 kB)\n",
      "\u001b[2K   \u001b[90m━━━━━━━━━━━━━━━━━━━━━━━━━━━━━━━━━━━━━━━━\u001b[0m \u001b[32m323.6/323.6 kB\u001b[0m \u001b[31m2.7 MB/s\u001b[0m eta \u001b[36m0:00:00\u001b[0m:00:01\u001b[0m\n",
      "\u001b[?25hDownloading cycler-0.12.1-py3-none-any.whl (8.3 kB)\n",
      "Downloading fonttools-4.57.0-cp312-cp312-manylinux_2_5_x86_64.manylinux1_x86_64.manylinux_2_17_x86_64.manylinux2014_x86_64.whl (4.9 MB)\n",
      "\u001b[2K   \u001b[90m━━━━━━━━━━━━━━━━━━━━━━━━━━━━━━━━━━━━━━━━\u001b[0m \u001b[32m4.9/4.9 MB\u001b[0m \u001b[31m37.0 MB/s\u001b[0m eta \u001b[36m0:00:00\u001b[0m:00:01\u001b[0m00:01\u001b[0m\n",
      "\u001b[?25hDownloading kiwisolver-1.4.8-cp312-cp312-manylinux_2_17_x86_64.manylinux2014_x86_64.whl (1.5 MB)\n",
      "\u001b[2K   \u001b[90m━━━━━━━━━━━━━━━━━━━━━━━━━━━━━━━━━━━━━━━━\u001b[0m \u001b[32m1.5/1.5 MB\u001b[0m \u001b[31m9.4 MB/s\u001b[0m eta \u001b[36m0:00:00\u001b[0m0:00:01\u001b[0m\n",
      "\u001b[?25hDownloading pillow-11.2.1-cp312-cp312-manylinux_2_28_x86_64.whl (4.6 MB)\n",
      "\u001b[2K   \u001b[90m━━━━━━━━━━━━━━━━━━━━━━━━━━━━━━━━━━━━━━━━\u001b[0m \u001b[32m4.6/4.6 MB\u001b[0m \u001b[31m32.5 MB/s\u001b[0m eta \u001b[36m0:00:00\u001b[0m00:01\u001b[0m:00:01\u001b[0m\n",
      "\u001b[?25hInstalling collected packages: pillow, kiwisolver, fonttools, cycler, contourpy, matplotlib\n",
      "Successfully installed contourpy-1.3.1 cycler-0.12.1 fonttools-4.57.0 kiwisolver-1.4.8 matplotlib-3.10.1 pillow-11.2.1\n"
     ]
    }
   ],
   "source": [
    "!pip install matplotlib"
   ]
  },
  {
   "cell_type": "code",
   "execution_count": null,
   "metadata": {},
   "outputs": [],
   "source": [
    "from matplotlib import pyplot as plt\n",
    "\n",
    "def "
   ]
  },
  {
   "cell_type": "code",
   "execution_count": 119,
   "metadata": {},
   "outputs": [
    {
     "name": "stdout",
     "output_type": "stream",
     "text": [
      "             timestamp     price  best_bid  best_ask  \\\n",
      "0  1669651194510812000  16135.80  16134.97  16135.80   \n",
      "1  1669651194553491000  16135.79  16134.97  16135.79   \n",
      "2  1669651194566656000  16135.79  16134.97  16135.80   \n",
      "3  1669651194566656000  16135.80  16134.97  16135.80   \n",
      "4  1669651195037482000  16136.67  16135.46  16136.67   \n",
      "\n",
      "                              time  mid_price  \n",
      "0 2022-11-28 15:59:54.510812+00:00  16135.385  \n",
      "1 2022-11-28 15:59:54.553491+00:00  16135.380  \n",
      "2 2022-11-28 15:59:54.566656+00:00  16135.385  \n",
      "3 2022-11-28 15:59:54.566656+00:00  16135.385  \n",
      "4 2022-11-28 15:59:55.037482+00:00  16136.065  \n"
     ]
    }
   ],
   "source": [
    "for t in range(start_t_ns, end_t_ns, delta_t_ns):\n",
    "    mask = price_df.timestamp.between(t, t + delta_t_ns, inclusive='left')\n",
    "    tmp_df = price_df[mask]\n",
    "    print(tmp_df.head())\n",
    "    break\n"
   ]
  },
  {
   "cell_type": "code",
   "execution_count": null,
   "metadata": {},
   "outputs": [],
   "source": []
  },
  {
   "cell_type": "code",
   "execution_count": null,
   "metadata": {},
   "outputs": [],
   "source": []
  }
 ],
 "metadata": {
  "kernelspec": {
   "display_name": ".venv",
   "language": "python",
   "name": "python3"
  },
  "language_info": {
   "codemirror_mode": {
    "name": "ipython",
    "version": 3
   },
   "file_extension": ".py",
   "mimetype": "text/x-python",
   "name": "python",
   "nbconvert_exporter": "python",
   "pygments_lexer": "ipython3",
   "version": "3.12.3"
  }
 },
 "nbformat": 4,
 "nbformat_minor": 2
}
