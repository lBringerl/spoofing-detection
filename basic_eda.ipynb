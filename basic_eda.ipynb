{
 "cells": [
  {
   "cell_type": "code",
   "execution_count": 73,
   "metadata": {},
   "outputs": [],
   "source": [
    "import pandas as pd\n",
    "import numpy as np"
   ]
  },
  {
   "cell_type": "code",
   "execution_count": 2,
   "metadata": {},
   "outputs": [],
   "source": [
    "full_channel_df = pd.read_json('../luna_crash_dataset/luna/LUNA_FullChannel_GDAX_20220511_17hr.json', lines=True)"
   ]
  },
  {
   "cell_type": "code",
   "execution_count": 3,
   "metadata": {},
   "outputs": [],
   "source": [
    "ticker_df = pd.read_json('../luna_crash_dataset/luna/LUNA_Ticker_GDAX_20220511_17hr.json', lines=True)"
   ]
  },
  {
   "cell_type": "code",
   "execution_count": 4,
   "metadata": {},
   "outputs": [
    {
     "data": {
      "text/plain": [
       "Index(['order_id', 'order_type', 'size', 'price', 'client_oid', 'type', 'side',\n",
       "       'product_id', 'time', 'sequence', 'remaining_size', 'trade_id',\n",
       "       'maker_order_id', 'taker_order_id', 'reason', 'funds', 'old_size',\n",
       "       'new_size'],\n",
       "      dtype='object')"
      ]
     },
     "execution_count": 4,
     "metadata": {},
     "output_type": "execute_result"
    }
   ],
   "source": [
    "full_channel_df.columns"
   ]
  },
  {
   "cell_type": "code",
   "execution_count": 5,
   "metadata": {},
   "outputs": [],
   "source": [
    "full_channel_df.time = pd.to_datetime(full_channel_df.time)\n",
    "full_channel_df['timestamp'] = full_channel_df['time'].astype('int64')\n",
    "\n",
    "ticker_df.time = pd.to_datetime(ticker_df.time)\n",
    "ticker_df['timestamp'] = ticker_df['time'].astype('int64')"
   ]
  },
  {
   "cell_type": "code",
   "execution_count": 6,
   "metadata": {},
   "outputs": [],
   "source": [
    "full_channel_df = full_channel_df.sort_values(by='timestamp')\n",
    "ticker_df = ticker_df.sort_values(by='timestamp')"
   ]
  },
  {
   "cell_type": "code",
   "execution_count": 7,
   "metadata": {},
   "outputs": [
    {
     "data": {
      "text/plain": [
       "count                                 768272\n",
       "mean     2022-05-11 16:26:23.892738816+00:00\n",
       "min         2022-05-11 15:59:00.796073+00:00\n",
       "25%      2022-05-11 16:10:33.844806656+00:00\n",
       "50%      2022-05-11 16:24:30.681201920+00:00\n",
       "75%      2022-05-11 16:41:44.489450752+00:00\n",
       "max         2022-05-11 16:59:52.935290+00:00\n",
       "Name: time, dtype: object"
      ]
     },
     "execution_count": 7,
     "metadata": {},
     "output_type": "execute_result"
    }
   ],
   "source": [
    "full_channel_df.time.describe()"
   ]
  },
  {
   "cell_type": "code",
   "execution_count": 8,
   "metadata": {},
   "outputs": [
    {
     "data": {
      "text/plain": [
       "order_id          729838\n",
       "order_type        251156\n",
       "size              288158\n",
       "price             763552\n",
       "client_oid        251156\n",
       "type              768272\n",
       "side              768272\n",
       "product_id        768272\n",
       "time              768272\n",
       "sequence          768272\n",
       "remaining_size    477233\n",
       "trade_id           38434\n",
       "maker_order_id     38434\n",
       "taker_order_id     38434\n",
       "reason            250056\n",
       "funds               1870\n",
       "old_size              17\n",
       "new_size              17\n",
       "timestamp         768272\n",
       "dtype: int64"
      ]
     },
     "execution_count": 8,
     "metadata": {},
     "output_type": "execute_result"
    }
   ],
   "source": [
    "full_channel_df.count()"
   ]
  },
  {
   "cell_type": "code",
   "execution_count": 9,
   "metadata": {},
   "outputs": [
    {
     "data": {
      "text/html": [
       "<div>\n",
       "<style scoped>\n",
       "    .dataframe tbody tr th:only-of-type {\n",
       "        vertical-align: middle;\n",
       "    }\n",
       "\n",
       "    .dataframe tbody tr th {\n",
       "        vertical-align: top;\n",
       "    }\n",
       "\n",
       "    .dataframe thead th {\n",
       "        text-align: right;\n",
       "    }\n",
       "</style>\n",
       "<table border=\"1\" class=\"dataframe\">\n",
       "  <thead>\n",
       "    <tr style=\"text-align: right;\">\n",
       "      <th></th>\n",
       "      <th>order_id</th>\n",
       "      <th>order_type</th>\n",
       "      <th>size</th>\n",
       "      <th>price</th>\n",
       "      <th>client_oid</th>\n",
       "      <th>type</th>\n",
       "      <th>side</th>\n",
       "      <th>product_id</th>\n",
       "      <th>time</th>\n",
       "      <th>sequence</th>\n",
       "      <th>remaining_size</th>\n",
       "      <th>trade_id</th>\n",
       "      <th>maker_order_id</th>\n",
       "      <th>taker_order_id</th>\n",
       "      <th>reason</th>\n",
       "      <th>funds</th>\n",
       "      <th>old_size</th>\n",
       "      <th>new_size</th>\n",
       "      <th>timestamp</th>\n",
       "    </tr>\n",
       "  </thead>\n",
       "  <tbody>\n",
       "    <tr>\n",
       "      <th>0</th>\n",
       "      <td>04074a2a-ff4d-40f8-a921-d88ece5d1562</td>\n",
       "      <td>limit</td>\n",
       "      <td>281.146</td>\n",
       "      <td>2.06</td>\n",
       "      <td>0278c289-d977-44e0-9b3a-ff4e82b8dda5</td>\n",
       "      <td>received</td>\n",
       "      <td>buy</td>\n",
       "      <td>WLUNA-USD</td>\n",
       "      <td>2022-05-11 15:59:00.796073+00:00</td>\n",
       "      <td>1292598749</td>\n",
       "      <td>NaN</td>\n",
       "      <td>NaN</td>\n",
       "      <td>NaN</td>\n",
       "      <td>NaN</td>\n",
       "      <td>NaN</td>\n",
       "      <td>NaN</td>\n",
       "      <td>NaN</td>\n",
       "      <td>NaN</td>\n",
       "      <td>1652284740796073000</td>\n",
       "    </tr>\n",
       "    <tr>\n",
       "      <th>1</th>\n",
       "      <td>04074a2a-ff4d-40f8-a921-d88ece5d1562</td>\n",
       "      <td>NaN</td>\n",
       "      <td>NaN</td>\n",
       "      <td>2.06</td>\n",
       "      <td>NaN</td>\n",
       "      <td>open</td>\n",
       "      <td>buy</td>\n",
       "      <td>WLUNA-USD</td>\n",
       "      <td>2022-05-11 15:59:00.796073+00:00</td>\n",
       "      <td>1292598750</td>\n",
       "      <td>281.146</td>\n",
       "      <td>NaN</td>\n",
       "      <td>NaN</td>\n",
       "      <td>NaN</td>\n",
       "      <td>NaN</td>\n",
       "      <td>NaN</td>\n",
       "      <td>NaN</td>\n",
       "      <td>NaN</td>\n",
       "      <td>1652284740796073000</td>\n",
       "    </tr>\n",
       "    <tr>\n",
       "      <th>5</th>\n",
       "      <td>NaN</td>\n",
       "      <td>NaN</td>\n",
       "      <td>14.000</td>\n",
       "      <td>2.33</td>\n",
       "      <td>NaN</td>\n",
       "      <td>match</td>\n",
       "      <td>buy</td>\n",
       "      <td>WLUNA-USD</td>\n",
       "      <td>2022-05-11 15:59:00.813739+00:00</td>\n",
       "      <td>1292598754</td>\n",
       "      <td>NaN</td>\n",
       "      <td>7884081.0</td>\n",
       "      <td>811f8a8f-53dc-4b0b-b106-9f6cba1eef4b</td>\n",
       "      <td>0299ed2d-d33d-4313-a1d4-b74ce9cc9f26</td>\n",
       "      <td>NaN</td>\n",
       "      <td>NaN</td>\n",
       "      <td>NaN</td>\n",
       "      <td>NaN</td>\n",
       "      <td>1652284740813739000</td>\n",
       "    </tr>\n",
       "    <tr>\n",
       "      <th>6</th>\n",
       "      <td>811f8a8f-53dc-4b0b-b106-9f6cba1eef4b</td>\n",
       "      <td>NaN</td>\n",
       "      <td>NaN</td>\n",
       "      <td>2.33</td>\n",
       "      <td>NaN</td>\n",
       "      <td>done</td>\n",
       "      <td>buy</td>\n",
       "      <td>WLUNA-USD</td>\n",
       "      <td>2022-05-11 15:59:00.813739+00:00</td>\n",
       "      <td>1292598755</td>\n",
       "      <td>0.000</td>\n",
       "      <td>NaN</td>\n",
       "      <td>NaN</td>\n",
       "      <td>NaN</td>\n",
       "      <td>filled</td>\n",
       "      <td>NaN</td>\n",
       "      <td>NaN</td>\n",
       "      <td>NaN</td>\n",
       "      <td>1652284740813739000</td>\n",
       "    </tr>\n",
       "    <tr>\n",
       "      <th>3</th>\n",
       "      <td>NaN</td>\n",
       "      <td>NaN</td>\n",
       "      <td>374.806</td>\n",
       "      <td>2.33</td>\n",
       "      <td>NaN</td>\n",
       "      <td>match</td>\n",
       "      <td>buy</td>\n",
       "      <td>WLUNA-USD</td>\n",
       "      <td>2022-05-11 15:59:00.813739+00:00</td>\n",
       "      <td>1292598752</td>\n",
       "      <td>NaN</td>\n",
       "      <td>7884080.0</td>\n",
       "      <td>474813db-2329-4aba-a07b-b1adea78da8f</td>\n",
       "      <td>0299ed2d-d33d-4313-a1d4-b74ce9cc9f26</td>\n",
       "      <td>NaN</td>\n",
       "      <td>NaN</td>\n",
       "      <td>NaN</td>\n",
       "      <td>NaN</td>\n",
       "      <td>1652284740813739000</td>\n",
       "    </tr>\n",
       "  </tbody>\n",
       "</table>\n",
       "</div>"
      ],
      "text/plain": [
       "                               order_id order_type     size  price  \\\n",
       "0  04074a2a-ff4d-40f8-a921-d88ece5d1562      limit  281.146   2.06   \n",
       "1  04074a2a-ff4d-40f8-a921-d88ece5d1562        NaN      NaN   2.06   \n",
       "5                                   NaN        NaN   14.000   2.33   \n",
       "6  811f8a8f-53dc-4b0b-b106-9f6cba1eef4b        NaN      NaN   2.33   \n",
       "3                                   NaN        NaN  374.806   2.33   \n",
       "\n",
       "                             client_oid      type side product_id  \\\n",
       "0  0278c289-d977-44e0-9b3a-ff4e82b8dda5  received  buy  WLUNA-USD   \n",
       "1                                   NaN      open  buy  WLUNA-USD   \n",
       "5                                   NaN     match  buy  WLUNA-USD   \n",
       "6                                   NaN      done  buy  WLUNA-USD   \n",
       "3                                   NaN     match  buy  WLUNA-USD   \n",
       "\n",
       "                              time    sequence  remaining_size   trade_id  \\\n",
       "0 2022-05-11 15:59:00.796073+00:00  1292598749             NaN        NaN   \n",
       "1 2022-05-11 15:59:00.796073+00:00  1292598750         281.146        NaN   \n",
       "5 2022-05-11 15:59:00.813739+00:00  1292598754             NaN  7884081.0   \n",
       "6 2022-05-11 15:59:00.813739+00:00  1292598755           0.000        NaN   \n",
       "3 2022-05-11 15:59:00.813739+00:00  1292598752             NaN  7884080.0   \n",
       "\n",
       "                         maker_order_id                        taker_order_id  \\\n",
       "0                                   NaN                                   NaN   \n",
       "1                                   NaN                                   NaN   \n",
       "5  811f8a8f-53dc-4b0b-b106-9f6cba1eef4b  0299ed2d-d33d-4313-a1d4-b74ce9cc9f26   \n",
       "6                                   NaN                                   NaN   \n",
       "3  474813db-2329-4aba-a07b-b1adea78da8f  0299ed2d-d33d-4313-a1d4-b74ce9cc9f26   \n",
       "\n",
       "   reason  funds  old_size  new_size            timestamp  \n",
       "0     NaN    NaN       NaN       NaN  1652284740796073000  \n",
       "1     NaN    NaN       NaN       NaN  1652284740796073000  \n",
       "5     NaN    NaN       NaN       NaN  1652284740813739000  \n",
       "6  filled    NaN       NaN       NaN  1652284740813739000  \n",
       "3     NaN    NaN       NaN       NaN  1652284740813739000  "
      ]
     },
     "execution_count": 9,
     "metadata": {},
     "output_type": "execute_result"
    }
   ],
   "source": [
    "full_channel_df.head()"
   ]
  },
  {
   "cell_type": "code",
   "execution_count": 10,
   "metadata": {},
   "outputs": [
    {
     "data": {
      "text/plain": [
       "0    1652284740796073000\n",
       "1    1652284740796073000\n",
       "5    1652284740813739000\n",
       "6    1652284740813739000\n",
       "3    1652284740813739000\n",
       "Name: timestamp, dtype: int64"
      ]
     },
     "execution_count": 10,
     "metadata": {},
     "output_type": "execute_result"
    }
   ],
   "source": [
    "full_channel_df.timestamp.head()"
   ]
  },
  {
   "cell_type": "code",
   "execution_count": 11,
   "metadata": {},
   "outputs": [
    {
     "data": {
      "text/plain": [
       "Index(['type', 'sequence', 'product_id', 'price', 'open_24h', 'volume_24h',\n",
       "       'low_24h', 'high_24h', 'volume_30d', 'best_bid', 'best_ask', 'side',\n",
       "       'time', 'trade_id', 'last_size', 'timestamp'],\n",
       "      dtype='object')"
      ]
     },
     "execution_count": 11,
     "metadata": {},
     "output_type": "execute_result"
    }
   ],
   "source": [
    "ticker_df.columns"
   ]
  },
  {
   "cell_type": "code",
   "execution_count": 12,
   "metadata": {},
   "outputs": [
    {
     "data": {
      "text/html": [
       "<div>\n",
       "<style scoped>\n",
       "    .dataframe tbody tr th:only-of-type {\n",
       "        vertical-align: middle;\n",
       "    }\n",
       "\n",
       "    .dataframe tbody tr th {\n",
       "        vertical-align: top;\n",
       "    }\n",
       "\n",
       "    .dataframe thead th {\n",
       "        text-align: right;\n",
       "    }\n",
       "</style>\n",
       "<table border=\"1\" class=\"dataframe\">\n",
       "  <thead>\n",
       "    <tr style=\"text-align: right;\">\n",
       "      <th></th>\n",
       "      <th>type</th>\n",
       "      <th>sequence</th>\n",
       "      <th>product_id</th>\n",
       "      <th>price</th>\n",
       "      <th>open_24h</th>\n",
       "      <th>volume_24h</th>\n",
       "      <th>low_24h</th>\n",
       "      <th>high_24h</th>\n",
       "      <th>volume_30d</th>\n",
       "      <th>best_bid</th>\n",
       "      <th>best_ask</th>\n",
       "      <th>side</th>\n",
       "      <th>time</th>\n",
       "      <th>trade_id</th>\n",
       "      <th>last_size</th>\n",
       "      <th>timestamp</th>\n",
       "    </tr>\n",
       "  </thead>\n",
       "  <tbody>\n",
       "    <tr>\n",
       "      <th>0</th>\n",
       "      <td>ticker</td>\n",
       "      <td>1292614427</td>\n",
       "      <td>WLUNA-USD</td>\n",
       "      <td>2.42</td>\n",
       "      <td>31.4</td>\n",
       "      <td>3.773185e+07</td>\n",
       "      <td>0.95</td>\n",
       "      <td>32.7</td>\n",
       "      <td>5.215304e+07</td>\n",
       "      <td>2.42</td>\n",
       "      <td>2.44</td>\n",
       "      <td>sell</td>\n",
       "      <td>2022-05-11 15:59:59.959016+00:00</td>\n",
       "      <td>7884870</td>\n",
       "      <td>11.525</td>\n",
       "      <td>1652284799959016000</td>\n",
       "    </tr>\n",
       "    <tr>\n",
       "      <th>1</th>\n",
       "      <td>ticker</td>\n",
       "      <td>1292614429</td>\n",
       "      <td>WLUNA-USD</td>\n",
       "      <td>2.42</td>\n",
       "      <td>31.4</td>\n",
       "      <td>3.773188e+07</td>\n",
       "      <td>0.95</td>\n",
       "      <td>32.7</td>\n",
       "      <td>5.215306e+07</td>\n",
       "      <td>2.42</td>\n",
       "      <td>2.44</td>\n",
       "      <td>sell</td>\n",
       "      <td>2022-05-11 15:59:59.959016+00:00</td>\n",
       "      <td>7884871</td>\n",
       "      <td>28.646</td>\n",
       "      <td>1652284799959016000</td>\n",
       "    </tr>\n",
       "    <tr>\n",
       "      <th>3</th>\n",
       "      <td>ticker</td>\n",
       "      <td>1292614433</td>\n",
       "      <td>WLUNA-USD</td>\n",
       "      <td>2.42</td>\n",
       "      <td>31.4</td>\n",
       "      <td>3.773217e+07</td>\n",
       "      <td>0.95</td>\n",
       "      <td>32.7</td>\n",
       "      <td>5.215335e+07</td>\n",
       "      <td>2.42</td>\n",
       "      <td>2.44</td>\n",
       "      <td>sell</td>\n",
       "      <td>2022-05-11 15:59:59.959016+00:00</td>\n",
       "      <td>7884873</td>\n",
       "      <td>274.088</td>\n",
       "      <td>1652284799959016000</td>\n",
       "    </tr>\n",
       "    <tr>\n",
       "      <th>2</th>\n",
       "      <td>ticker</td>\n",
       "      <td>1292614431</td>\n",
       "      <td>WLUNA-USD</td>\n",
       "      <td>2.42</td>\n",
       "      <td>31.4</td>\n",
       "      <td>3.773190e+07</td>\n",
       "      <td>0.95</td>\n",
       "      <td>32.7</td>\n",
       "      <td>5.215308e+07</td>\n",
       "      <td>2.42</td>\n",
       "      <td>2.44</td>\n",
       "      <td>sell</td>\n",
       "      <td>2022-05-11 15:59:59.959016+00:00</td>\n",
       "      <td>7884872</td>\n",
       "      <td>14.000</td>\n",
       "      <td>1652284799959016000</td>\n",
       "    </tr>\n",
       "    <tr>\n",
       "      <th>4</th>\n",
       "      <td>ticker</td>\n",
       "      <td>1292614468</td>\n",
       "      <td>WLUNA-USD</td>\n",
       "      <td>2.44</td>\n",
       "      <td>31.4</td>\n",
       "      <td>3.773217e+07</td>\n",
       "      <td>0.95</td>\n",
       "      <td>32.7</td>\n",
       "      <td>5.215335e+07</td>\n",
       "      <td>2.42</td>\n",
       "      <td>2.44</td>\n",
       "      <td>buy</td>\n",
       "      <td>2022-05-11 16:00:00.215969+00:00</td>\n",
       "      <td>7884874</td>\n",
       "      <td>1.100</td>\n",
       "      <td>1652284800215969000</td>\n",
       "    </tr>\n",
       "  </tbody>\n",
       "</table>\n",
       "</div>"
      ],
      "text/plain": [
       "     type    sequence product_id  price  open_24h    volume_24h  low_24h  \\\n",
       "0  ticker  1292614427  WLUNA-USD   2.42      31.4  3.773185e+07     0.95   \n",
       "1  ticker  1292614429  WLUNA-USD   2.42      31.4  3.773188e+07     0.95   \n",
       "3  ticker  1292614433  WLUNA-USD   2.42      31.4  3.773217e+07     0.95   \n",
       "2  ticker  1292614431  WLUNA-USD   2.42      31.4  3.773190e+07     0.95   \n",
       "4  ticker  1292614468  WLUNA-USD   2.44      31.4  3.773217e+07     0.95   \n",
       "\n",
       "   high_24h    volume_30d  best_bid  best_ask  side  \\\n",
       "0      32.7  5.215304e+07      2.42      2.44  sell   \n",
       "1      32.7  5.215306e+07      2.42      2.44  sell   \n",
       "3      32.7  5.215335e+07      2.42      2.44  sell   \n",
       "2      32.7  5.215308e+07      2.42      2.44  sell   \n",
       "4      32.7  5.215335e+07      2.42      2.44   buy   \n",
       "\n",
       "                              time  trade_id  last_size            timestamp  \n",
       "0 2022-05-11 15:59:59.959016+00:00   7884870     11.525  1652284799959016000  \n",
       "1 2022-05-11 15:59:59.959016+00:00   7884871     28.646  1652284799959016000  \n",
       "3 2022-05-11 15:59:59.959016+00:00   7884873    274.088  1652284799959016000  \n",
       "2 2022-05-11 15:59:59.959016+00:00   7884872     14.000  1652284799959016000  \n",
       "4 2022-05-11 16:00:00.215969+00:00   7884874      1.100  1652284800215969000  "
      ]
     },
     "execution_count": 12,
     "metadata": {},
     "output_type": "execute_result"
    }
   ],
   "source": [
    "ticker_df.head()"
   ]
  },
  {
   "cell_type": "code",
   "execution_count": 13,
   "metadata": {},
   "outputs": [],
   "source": [
    "price_df = ticker_df[['timestamp', 'price', 'best_bid', 'best_ask', 'time']].copy()\n",
    "price_df['mid_price'] = (price_df['best_bid'] + price_df['best_ask']) / 2"
   ]
  },
  {
   "cell_type": "code",
   "execution_count": 52,
   "metadata": {},
   "outputs": [],
   "source": [
    "orders_df = pd.merge(\n",
    "    price_df.drop(columns=['time', 'price']),\n",
    "    full_channel_df,\n",
    "    on='timestamp',\n",
    "    how='inner'\n",
    ")"
   ]
  },
  {
   "cell_type": "code",
   "execution_count": 55,
   "metadata": {},
   "outputs": [
    {
     "data": {
      "text/plain": [
       "Index(['timestamp', 'best_bid', 'best_ask', 'mid_price', 'order_id',\n",
       "       'order_type', 'size', 'price', 'client_oid', 'type', 'side',\n",
       "       'product_id', 'time', 'sequence', 'remaining_size', 'trade_id',\n",
       "       'maker_order_id', 'taker_order_id', 'reason', 'funds', 'old_size',\n",
       "       'new_size'],\n",
       "      dtype='object')"
      ]
     },
     "execution_count": 55,
     "metadata": {},
     "output_type": "execute_result"
    }
   ],
   "source": [
    "orders_df.columns"
   ]
  },
  {
   "cell_type": "code",
   "execution_count": 56,
   "metadata": {},
   "outputs": [],
   "source": [
    "orders_df = orders_df[['timestamp', 'price', 'best_bid', 'best_ask', 'mid_price', 'side', 'order_type', 'reason', 'size', 'time']]"
   ]
  },
  {
   "cell_type": "markdown",
   "metadata": {},
   "source": [
    "## Velocities\n",
    "\n",
    "### Limit buy\n",
    "![alt text](limit_buy.png \"limit buy\")\n",
    "\n",
    "### Limit sell\n",
    "![alt text](limit_sell.png \"limit sell\")\n",
    "\n",
    "### Limit buy cancel\n",
    "![alt text](limit_buy_cancel.png \"limit buy cancel\")\n",
    "\n",
    "### Limit sell cancel\n",
    "![alt text](limit_sell_cancel.png \"limit sell cancel\")\n"
   ]
  },
  {
   "cell_type": "code",
   "execution_count": 75,
   "metadata": {},
   "outputs": [],
   "source": [
    "def calculate_buy_velocity(price: float, alpha: float, delta_t_ns: int, bid: float):\n",
    "    return (price - (bid - alpha)) / delta_t_ns\n",
    "\n",
    "\n",
    "def calculate_sell_velocity(price: float, alpha: float, delta_t_ns: int, ask: float):\n",
    "    return (price - (ask + alpha)) / delta_t_ns\n",
    "\n",
    "\n",
    "def calculate_buy_cancel_velocity(price: float, alpha: float, delta_t_ns: int, bid: float):\n",
    "    return ((bid - alpha) - price) / delta_t_ns\n",
    "\n",
    "\n",
    "def calculate_sell_cancel_velocity(price: float, alpha: float, delta_t_ns: int, ask: float):\n",
    "    return ((ask + alpha) - price) / delta_t_ns\n"
   ]
  },
  {
   "cell_type": "code",
   "execution_count": 197,
   "metadata": {},
   "outputs": [],
   "source": [
    "from matplotlib import pyplot as plt\n",
    "\n",
    "\n",
    "def plot_mid_price(price_df, limit=100):\n",
    "    price_df = price_df.head(limit)\n",
    "    plt.figure(figsize=(10, 5))\n",
    "    plt.plot(price_df.time, price_df.mid_price, label='Mid Price')\n",
    "    plt.xlabel('Timestamp')\n",
    "    plt.ylabel('Mid Price')\n",
    "    plt.title('Mid Price over Time')\n",
    "    plt.legend()\n",
    "    plt.show()\n",
    "\n",
    "\n",
    "def plot_cumulative_momentum(cumulative_momentum):\n",
    "    plt.figure(figsize=(10, 5))\n",
    "    plt.plot(cumulative_momentum)\n",
    "    plt.xlabel('Timestamp')\n",
    "    plt.ylabel('Cumulative Momentum')\n",
    "    plt.title('Cumulative Momentum over Time')\n",
    "    plt.show()\n"
   ]
  },
  {
   "cell_type": "code",
   "execution_count": 221,
   "metadata": {},
   "outputs": [],
   "source": [
    "delta_t_ns = 100_000_000\n",
    "delta_t_sec = delta_t_ns / 1_000_000_000\n",
    "start_t_ns = full_channel_df.timestamp.min()\n",
    "end_t_ns = full_channel_df.timestamp.max()\n",
    "\n",
    "# alpha = (ticker_df.price.max() - ticker_df.price.min()) / 4\n",
    "alpha = 0.5"
   ]
  },
  {
   "cell_type": "code",
   "execution_count": 276,
   "metadata": {},
   "outputs": [],
   "source": [
    "\n",
    "import tqdm\n",
    "\n",
    "\n",
    "def calculate_momentum(orders_df, alpha, delta_t_ns, start_t_ns, end_t_ns):\n",
    "    accum_df = None\n",
    "\n",
    "    counter = 0\n",
    "\n",
    "    cumulative_momentum = []\n",
    "\n",
    "    for t in tqdm.tqdm(range(start_t_ns, end_t_ns, delta_t_ns)):\n",
    "        time_mask = orders_df.timestamp.between(t, t + delta_t_ns, inclusive='left')\n",
    "        active_area_mask = orders_df.price.between(orders_df.best_bid - alpha, orders_df.best_ask + alpha)\n",
    "        tmp_df = orders_df[time_mask & active_area_mask].copy()\n",
    "        tmp_df['velocity'] = np.nan\n",
    "        tmp_df['momentum'] = np.nan\n",
    "\n",
    "        buy_mask = (tmp_df.order_type == 'limit') & (tmp_df.side == 'buy')\n",
    "        sell_mask = (tmp_df.order_type == 'limit') & (tmp_df.side == 'sell')\n",
    "        buy_cancel_mask = (tmp_df.reason == 'cancel') & (tmp_df.side == 'buy')\n",
    "        sell_cancel_mask = (tmp_df.reason == 'cancel') & (tmp_df.side == 'sell')\n",
    "        \n",
    "        tmp_df.loc[buy_mask, 'velocity'] = calculate_buy_velocity(\n",
    "            tmp_df.loc[buy_mask, 'price'],\n",
    "            alpha,\n",
    "            delta_t_sec,\n",
    "            tmp_df.loc[buy_mask, 'best_bid']\n",
    "        )\n",
    "        tmp_df.loc[buy_mask, 'momentum'] = tmp_df.loc[buy_mask, 'velocity'] * tmp_df.loc[buy_mask, 'size']\n",
    "\n",
    "        tmp_df.loc[sell_mask, 'velocity'] = calculate_sell_velocity(\n",
    "            tmp_df.loc[sell_mask, 'price'],\n",
    "            alpha,\n",
    "            delta_t_sec,\n",
    "            tmp_df.loc[sell_mask, 'best_ask']\n",
    "        )\n",
    "        tmp_df.loc[sell_mask, 'momentum'] = tmp_df.loc[sell_mask, 'velocity'] * tmp_df.loc[sell_mask, 'size']\n",
    "\n",
    "        tmp_df.loc[buy_cancel_mask, 'velocity'] = calculate_buy_cancel_velocity(\n",
    "            tmp_df.loc[buy_cancel_mask, 'price'],\n",
    "            alpha,\n",
    "            delta_t_sec,\n",
    "            tmp_df.loc[buy_cancel_mask, 'best_bid']\n",
    "        )\n",
    "        tmp_df.loc[buy_cancel_mask, 'momentum'] = tmp_df.loc[buy_cancel_mask, 'velocity'] * tmp_df.loc[buy_cancel_mask, 'size']\n",
    "\n",
    "        tmp_df.loc[sell_cancel_mask, 'velocity'] = calculate_sell_cancel_velocity(\n",
    "            tmp_df.loc[sell_cancel_mask, 'price'],\n",
    "            alpha,\n",
    "            delta_t_sec,\n",
    "            tmp_df.loc[sell_cancel_mask, 'best_ask']\n",
    "        )\n",
    "        tmp_df.loc[sell_cancel_mask, 'momentum'] = tmp_df.loc[sell_cancel_mask, 'velocity'] * tmp_df.loc[sell_cancel_mask, 'size']\n",
    "\n",
    "        net_momentum = tmp_df.momentum.sum()\n",
    "        if len(cumulative_momentum) > 0:\n",
    "            cumulative_momentum.append(net_momentum + cumulative_momentum[-1])\n",
    "        else:\n",
    "            cumulative_momentum.append(net_momentum)\n",
    "        \n",
    "        if accum_df is None:\n",
    "            accum_df = tmp_df.copy()\n",
    "        else:\n",
    "            accum_df = pd.concat([accum_df, tmp_df])\n",
    "\n",
    "        # counter += 1\n",
    "        # if counter > 10000:\n",
    "        #     break\n",
    "    return cumulative_momentum, accum_df\n",
    "\n",
    "\n",
    "# plot_mid_price(acum_df, limit=100000)\n"
   ]
  },
  {
   "cell_type": "code",
   "execution_count": 277,
   "metadata": {},
   "outputs": [
    {
     "name": "stderr",
     "output_type": "stream",
     "text": [
      "100%|██████████| 3653/3653 [00:48<00:00, 75.46it/s]\n",
      "100%|██████████| 3653/3653 [00:48<00:00, 75.80it/s]\n",
      "100%|██████████| 3653/3653 [00:49<00:00, 74.29it/s]\n",
      "100%|██████████| 3653/3653 [00:48<00:00, 74.59it/s]\n",
      "100%|██████████| 3653/3653 [00:49<00:00, 73.86it/s]\n",
      "100%|██████████| 3653/3653 [00:49<00:00, 73.95it/s]\n",
      "100%|██████████| 3653/3653 [00:48<00:00, 74.60it/s]\n",
      "100%|██████████| 3653/3653 [00:49<00:00, 73.79it/s]\n",
      "100%|██████████| 3653/3653 [00:50<00:00, 72.30it/s] \n",
      "100%|██████████| 3653/3653 [00:51<00:00, 71.36it/s] \n"
     ]
    }
   ],
   "source": [
    "from concurrent.futures import ProcessPoolExecutor\n",
    "\n",
    "\n",
    "CONCURRENCY = 10\n",
    "timestamp_interval = (end_t_ns - start_t_ns) // CONCURRENCY\n",
    "\n",
    "with ProcessPoolExecutor(CONCURRENCY) as executor:\n",
    "    futures = []\n",
    "    for start_timestamp in range(start_t_ns, end_t_ns, timestamp_interval):\n",
    "        tmp_df = orders_df[orders_df.timestamp.between(start_timestamp, start_timestamp + timestamp_interval, inclusive='left')]\n",
    "        future = executor.submit(calculate_momentum, tmp_df, alpha, delta_t_ns, start_timestamp, start_timestamp + timestamp_interval)\n",
    "        futures.append(future)\n",
    "\n",
    "\n",
    "cumulative_momentum, accum_df = futures[0].result()\n",
    "shift = cumulative_momentum[-1]\n",
    "for future in futures[1:]:\n",
    "    momentum, df = future.result()\n",
    "    shifted_array = np.array(momentum) + shift\n",
    "    cumulative_momentum.extend(shifted_array)\n",
    "    shift = cumulative_momentum[-1]\n",
    "    accum_df = pd.concat([accum_df, df])"
   ]
  },
  {
   "cell_type": "code",
   "execution_count": 278,
   "metadata": {},
   "outputs": [
    {
     "data": {
      "image/png": "[encoded data removed]",
      "text/plain": [
       "<Figure size 1000x500 with 1 Axes>"
      ]
     },
     "metadata": {},
     "output_type": "display_data"
    }
   ],
   "source": [
    "plot_cumulative_momentum(cumulative_momentum)"
   ]
  },
  {
   "cell_type": "code",
   "execution_count": 275,
   "metadata": {},
   "outputs": [
    {
     "data": {
      "image/png": "[encoded data removed]",
      "text/plain": [
       "<Figure size 1000x500 with 1 Axes>"
      ]
     },
     "metadata": {},
     "output_type": "display_data"
    }
   ],
   "source": [
    "plot_mid_price(price_df, limit=100000)"
   ]
  },
  {
   "cell_type": "code",
   "execution_count": 240,
   "metadata": {},
   "outputs": [
    {
     "data": {
      "text/plain": [
       "Index(['timestamp', 'price', 'best_bid', 'best_ask', 'mid_price', 'side',\n",
       "       'order_type', 'reason', 'size', 'time'],\n",
       "      dtype='object')"
      ]
     },
     "execution_count": 240,
     "metadata": {},
     "output_type": "execute_result"
    }
   ],
   "source": [
    "orders_df.columns"
   ]
  },
  {
   "cell_type": "code",
   "execution_count": 292,
   "metadata": {},
   "outputs": [
    {
     "data": {
      "text/plain": [
       "1         filled\n",
       "2            NaN\n",
       "3         filled\n",
       "4            NaN\n",
       "5         filled\n",
       "           ...  \n",
       "447289       NaN\n",
       "447290       NaN\n",
       "447292    filled\n",
       "447293    filled\n",
       "447294       NaN\n",
       "Name: reason, Length: 397577, dtype: object"
      ]
     },
     "execution_count": 292,
     "metadata": {},
     "output_type": "execute_result"
    }
   ],
   "source": [
    "accum_df[accum_df.momentum.isna()].reason"
   ]
  },
  {
   "cell_type": "code",
   "execution_count": 193,
   "metadata": {},
   "outputs": [
    {
     "data": {
      "text/plain": [
       "np.int64(29836)"
      ]
     },
     "execution_count": 193,
     "metadata": {},
     "output_type": "execute_result"
    }
   ],
   "source": [
    "accum_df.velocity.notna().sum()"
   ]
  },
  {
   "cell_type": "code",
   "execution_count": 28,
   "metadata": {},
   "outputs": [
    {
     "data": {
      "text/plain": [
       "array(['limit', nan, 'market'], dtype=object)"
      ]
     },
     "execution_count": 28,
     "metadata": {},
     "output_type": "execute_result"
    }
   ],
   "source": [
    "full_channel_df.order_type.unique()"
   ]
  },
  {
   "cell_type": "code",
   "execution_count": 29,
   "metadata": {},
   "outputs": [
    {
     "data": {
      "text/plain": [
       "array(['received', 'open', 'match', 'done', 'change'], dtype=object)"
      ]
     },
     "execution_count": 29,
     "metadata": {},
     "output_type": "execute_result"
    }
   ],
   "source": [
    "full_channel_df.type.unique()"
   ]
  },
  {
   "cell_type": "code",
   "execution_count": 30,
   "metadata": {},
   "outputs": [
    {
     "data": {
      "text/plain": [
       "array([nan, 'filled', 'canceled'], dtype=object)"
      ]
     },
     "execution_count": 30,
     "metadata": {},
     "output_type": "execute_result"
    }
   ],
   "source": [
    "full_channel_df.reason.unique()"
   ]
  },
  {
   "cell_type": "code",
   "execution_count": 33,
   "metadata": {},
   "outputs": [],
   "source": [
    "ndf = full_channel_df.where(full_channel_df.order_type.isna())"
   ]
  },
  {
   "cell_type": "code",
   "execution_count": 46,
   "metadata": {},
   "outputs": [
    {
     "data": {
      "text/plain": [
       "(2360, 19)"
      ]
     },
     "execution_count": 46,
     "metadata": {},
     "output_type": "execute_result"
    }
   ],
   "source": [
    "full_channel_df[full_channel_df.order_type == 'market'].shape"
   ]
  },
  {
   "cell_type": "code",
   "execution_count": 256,
   "metadata": {},
   "outputs": [
    {
     "data": {
      "text/plain": [
       "(2360, 19)"
      ]
     },
     "execution_count": 256,
     "metadata": {},
     "output_type": "execute_result"
    }
   ],
   "source": [
    "full_channel_df[full_channel_df.order_type == 'market'].shape"
   ]
  },
  {
   "cell_type": "code",
   "execution_count": 258,
   "metadata": {},
   "outputs": [
    {
     "data": {
      "text/html": [
       "<div>\n",
       "<style scoped>\n",
       "    .dataframe tbody tr th:only-of-type {\n",
       "        vertical-align: middle;\n",
       "    }\n",
       "\n",
       "    .dataframe tbody tr th {\n",
       "        vertical-align: top;\n",
       "    }\n",
       "\n",
       "    .dataframe thead th {\n",
       "        text-align: right;\n",
       "    }\n",
       "</style>\n",
       "<table border=\"1\" class=\"dataframe\">\n",
       "  <thead>\n",
       "    <tr style=\"text-align: right;\">\n",
       "      <th></th>\n",
       "      <th>order_id</th>\n",
       "      <th>order_type</th>\n",
       "      <th>size</th>\n",
       "      <th>price</th>\n",
       "      <th>client_oid</th>\n",
       "      <th>type</th>\n",
       "      <th>side</th>\n",
       "      <th>product_id</th>\n",
       "      <th>time</th>\n",
       "      <th>sequence</th>\n",
       "      <th>remaining_size</th>\n",
       "      <th>trade_id</th>\n",
       "      <th>maker_order_id</th>\n",
       "      <th>taker_order_id</th>\n",
       "      <th>reason</th>\n",
       "      <th>funds</th>\n",
       "      <th>old_size</th>\n",
       "      <th>new_size</th>\n",
       "      <th>timestamp</th>\n",
       "    </tr>\n",
       "  </thead>\n",
       "  <tbody>\n",
       "    <tr>\n",
       "      <th>5</th>\n",
       "      <td>NaN</td>\n",
       "      <td>NaN</td>\n",
       "      <td>14.000</td>\n",
       "      <td>2.33</td>\n",
       "      <td>NaN</td>\n",
       "      <td>match</td>\n",
       "      <td>buy</td>\n",
       "      <td>WLUNA-USD</td>\n",
       "      <td>2022-05-11 15:59:00.813739+00:00</td>\n",
       "      <td>1292598754</td>\n",
       "      <td>NaN</td>\n",
       "      <td>7884081.0</td>\n",
       "      <td>811f8a8f-53dc-4b0b-b106-9f6cba1eef4b</td>\n",
       "      <td>0299ed2d-d33d-4313-a1d4-b74ce9cc9f26</td>\n",
       "      <td>NaN</td>\n",
       "      <td>NaN</td>\n",
       "      <td>NaN</td>\n",
       "      <td>NaN</td>\n",
       "      <td>1652284740813739000</td>\n",
       "    </tr>\n",
       "    <tr>\n",
       "      <th>3</th>\n",
       "      <td>NaN</td>\n",
       "      <td>NaN</td>\n",
       "      <td>374.806</td>\n",
       "      <td>2.33</td>\n",
       "      <td>NaN</td>\n",
       "      <td>match</td>\n",
       "      <td>buy</td>\n",
       "      <td>WLUNA-USD</td>\n",
       "      <td>2022-05-11 15:59:00.813739+00:00</td>\n",
       "      <td>1292598752</td>\n",
       "      <td>NaN</td>\n",
       "      <td>7884080.0</td>\n",
       "      <td>474813db-2329-4aba-a07b-b1adea78da8f</td>\n",
       "      <td>0299ed2d-d33d-4313-a1d4-b74ce9cc9f26</td>\n",
       "      <td>NaN</td>\n",
       "      <td>NaN</td>\n",
       "      <td>NaN</td>\n",
       "      <td>NaN</td>\n",
       "      <td>1652284740813739000</td>\n",
       "    </tr>\n",
       "    <tr>\n",
       "      <th>171</th>\n",
       "      <td>NaN</td>\n",
       "      <td>NaN</td>\n",
       "      <td>14.000</td>\n",
       "      <td>2.33</td>\n",
       "      <td>NaN</td>\n",
       "      <td>match</td>\n",
       "      <td>buy</td>\n",
       "      <td>WLUNA-USD</td>\n",
       "      <td>2022-05-11 15:59:01.357997+00:00</td>\n",
       "      <td>1292598920</td>\n",
       "      <td>NaN</td>\n",
       "      <td>7884082.0</td>\n",
       "      <td>df4ec280-7d72-4f13-a79f-4f09bfeed96f</td>\n",
       "      <td>46fd14be-872e-4125-a5d2-b808f16e84b6</td>\n",
       "      <td>NaN</td>\n",
       "      <td>NaN</td>\n",
       "      <td>NaN</td>\n",
       "      <td>NaN</td>\n",
       "      <td>1652284741357997000</td>\n",
       "    </tr>\n",
       "    <tr>\n",
       "      <th>367</th>\n",
       "      <td>NaN</td>\n",
       "      <td>NaN</td>\n",
       "      <td>17.473</td>\n",
       "      <td>2.32</td>\n",
       "      <td>NaN</td>\n",
       "      <td>match</td>\n",
       "      <td>buy</td>\n",
       "      <td>WLUNA-USD</td>\n",
       "      <td>2022-05-11 15:59:02.177983+00:00</td>\n",
       "      <td>1292599116</td>\n",
       "      <td>NaN</td>\n",
       "      <td>7884083.0</td>\n",
       "      <td>b1eb85bc-b2ef-40bf-b606-2d57c34b360b</td>\n",
       "      <td>d3126119-1c84-417e-826b-f24329f651a8</td>\n",
       "      <td>NaN</td>\n",
       "      <td>NaN</td>\n",
       "      <td>NaN</td>\n",
       "      <td>NaN</td>\n",
       "      <td>1652284742177983000</td>\n",
       "    </tr>\n",
       "    <tr>\n",
       "      <th>369</th>\n",
       "      <td>NaN</td>\n",
       "      <td>NaN</td>\n",
       "      <td>11.525</td>\n",
       "      <td>2.32</td>\n",
       "      <td>NaN</td>\n",
       "      <td>match</td>\n",
       "      <td>buy</td>\n",
       "      <td>WLUNA-USD</td>\n",
       "      <td>2022-05-11 15:59:02.177983+00:00</td>\n",
       "      <td>1292599118</td>\n",
       "      <td>NaN</td>\n",
       "      <td>7884084.0</td>\n",
       "      <td>bb2fde8a-e60c-41eb-853d-65d788a2583b</td>\n",
       "      <td>d3126119-1c84-417e-826b-f24329f651a8</td>\n",
       "      <td>NaN</td>\n",
       "      <td>NaN</td>\n",
       "      <td>NaN</td>\n",
       "      <td>NaN</td>\n",
       "      <td>1652284742177983000</td>\n",
       "    </tr>\n",
       "    <tr>\n",
       "      <th>...</th>\n",
       "      <td>...</td>\n",
       "      <td>...</td>\n",
       "      <td>...</td>\n",
       "      <td>...</td>\n",
       "      <td>...</td>\n",
       "      <td>...</td>\n",
       "      <td>...</td>\n",
       "      <td>...</td>\n",
       "      <td>...</td>\n",
       "      <td>...</td>\n",
       "      <td>...</td>\n",
       "      <td>...</td>\n",
       "      <td>...</td>\n",
       "      <td>...</td>\n",
       "      <td>...</td>\n",
       "      <td>...</td>\n",
       "      <td>...</td>\n",
       "      <td>...</td>\n",
       "      <td>...</td>\n",
       "    </tr>\n",
       "    <tr>\n",
       "      <th>768261</th>\n",
       "      <td>NaN</td>\n",
       "      <td>NaN</td>\n",
       "      <td>0.428</td>\n",
       "      <td>2.33</td>\n",
       "      <td>NaN</td>\n",
       "      <td>match</td>\n",
       "      <td>sell</td>\n",
       "      <td>WLUNA-USD</td>\n",
       "      <td>2022-05-11 16:59:52.913315+00:00</td>\n",
       "      <td>1293367010</td>\n",
       "      <td>NaN</td>\n",
       "      <td>7922509.0</td>\n",
       "      <td>bd093610-4dd4-419c-9d2e-208ae2a465bf</td>\n",
       "      <td>cfbef5ba-ea97-4007-b79d-3209d85573ba</td>\n",
       "      <td>NaN</td>\n",
       "      <td>NaN</td>\n",
       "      <td>NaN</td>\n",
       "      <td>NaN</td>\n",
       "      <td>1652288392913315000</td>\n",
       "    </tr>\n",
       "    <tr>\n",
       "      <th>768264</th>\n",
       "      <td>NaN</td>\n",
       "      <td>NaN</td>\n",
       "      <td>13.771</td>\n",
       "      <td>2.32</td>\n",
       "      <td>NaN</td>\n",
       "      <td>match</td>\n",
       "      <td>buy</td>\n",
       "      <td>WLUNA-USD</td>\n",
       "      <td>2022-05-11 16:59:52.921821+00:00</td>\n",
       "      <td>1293367013</td>\n",
       "      <td>NaN</td>\n",
       "      <td>7922510.0</td>\n",
       "      <td>76b22ba0-975e-4efa-be94-bf71ea5464ae</td>\n",
       "      <td>22d3c8a0-3942-4315-aa07-a89f2d09f15e</td>\n",
       "      <td>NaN</td>\n",
       "      <td>NaN</td>\n",
       "      <td>NaN</td>\n",
       "      <td>NaN</td>\n",
       "      <td>1652288392921821000</td>\n",
       "    </tr>\n",
       "    <tr>\n",
       "      <th>768266</th>\n",
       "      <td>NaN</td>\n",
       "      <td>NaN</td>\n",
       "      <td>6.229</td>\n",
       "      <td>2.32</td>\n",
       "      <td>NaN</td>\n",
       "      <td>match</td>\n",
       "      <td>buy</td>\n",
       "      <td>WLUNA-USD</td>\n",
       "      <td>2022-05-11 16:59:52.921821+00:00</td>\n",
       "      <td>1293367015</td>\n",
       "      <td>NaN</td>\n",
       "      <td>7922511.0</td>\n",
       "      <td>17bd2f80-a385-4ad4-b904-94537b6cb3c2</td>\n",
       "      <td>22d3c8a0-3942-4315-aa07-a89f2d09f15e</td>\n",
       "      <td>NaN</td>\n",
       "      <td>NaN</td>\n",
       "      <td>NaN</td>\n",
       "      <td>NaN</td>\n",
       "      <td>1652288392921821000</td>\n",
       "    </tr>\n",
       "    <tr>\n",
       "      <th>768271</th>\n",
       "      <td>NaN</td>\n",
       "      <td>NaN</td>\n",
       "      <td>15.732</td>\n",
       "      <td>2.32</td>\n",
       "      <td>NaN</td>\n",
       "      <td>match</td>\n",
       "      <td>buy</td>\n",
       "      <td>WLUNA-USD</td>\n",
       "      <td>2022-05-11 16:59:52.935290+00:00</td>\n",
       "      <td>1293367020</td>\n",
       "      <td>NaN</td>\n",
       "      <td>7922513.0</td>\n",
       "      <td>6025f56a-f1a6-49a6-9dba-3c4c62af7272</td>\n",
       "      <td>16efdc4e-f04e-43df-baf4-5ebb76c21285</td>\n",
       "      <td>NaN</td>\n",
       "      <td>NaN</td>\n",
       "      <td>NaN</td>\n",
       "      <td>NaN</td>\n",
       "      <td>1652288392935290000</td>\n",
       "    </tr>\n",
       "    <tr>\n",
       "      <th>768269</th>\n",
       "      <td>NaN</td>\n",
       "      <td>NaN</td>\n",
       "      <td>4.268</td>\n",
       "      <td>2.32</td>\n",
       "      <td>NaN</td>\n",
       "      <td>match</td>\n",
       "      <td>buy</td>\n",
       "      <td>WLUNA-USD</td>\n",
       "      <td>2022-05-11 16:59:52.935290+00:00</td>\n",
       "      <td>1293367018</td>\n",
       "      <td>NaN</td>\n",
       "      <td>7922512.0</td>\n",
       "      <td>17bd2f80-a385-4ad4-b904-94537b6cb3c2</td>\n",
       "      <td>16efdc4e-f04e-43df-baf4-5ebb76c21285</td>\n",
       "      <td>NaN</td>\n",
       "      <td>NaN</td>\n",
       "      <td>NaN</td>\n",
       "      <td>NaN</td>\n",
       "      <td>1652288392935290000</td>\n",
       "    </tr>\n",
       "  </tbody>\n",
       "</table>\n",
       "<p>38434 rows × 19 columns</p>\n",
       "</div>"
      ],
      "text/plain": [
       "       order_id order_type     size  price client_oid   type  side product_id  \\\n",
       "5           NaN        NaN   14.000   2.33        NaN  match   buy  WLUNA-USD   \n",
       "3           NaN        NaN  374.806   2.33        NaN  match   buy  WLUNA-USD   \n",
       "171         NaN        NaN   14.000   2.33        NaN  match   buy  WLUNA-USD   \n",
       "367         NaN        NaN   17.473   2.32        NaN  match   buy  WLUNA-USD   \n",
       "369         NaN        NaN   11.525   2.32        NaN  match   buy  WLUNA-USD   \n",
       "...         ...        ...      ...    ...        ...    ...   ...        ...   \n",
       "768261      NaN        NaN    0.428   2.33        NaN  match  sell  WLUNA-USD   \n",
       "768264      NaN        NaN   13.771   2.32        NaN  match   buy  WLUNA-USD   \n",
       "768266      NaN        NaN    6.229   2.32        NaN  match   buy  WLUNA-USD   \n",
       "768271      NaN        NaN   15.732   2.32        NaN  match   buy  WLUNA-USD   \n",
       "768269      NaN        NaN    4.268   2.32        NaN  match   buy  WLUNA-USD   \n",
       "\n",
       "                                   time    sequence  remaining_size  \\\n",
       "5      2022-05-11 15:59:00.813739+00:00  1292598754             NaN   \n",
       "3      2022-05-11 15:59:00.813739+00:00  1292598752             NaN   \n",
       "171    2022-05-11 15:59:01.357997+00:00  1292598920             NaN   \n",
       "367    2022-05-11 15:59:02.177983+00:00  1292599116             NaN   \n",
       "369    2022-05-11 15:59:02.177983+00:00  1292599118             NaN   \n",
       "...                                 ...         ...             ...   \n",
       "768261 2022-05-11 16:59:52.913315+00:00  1293367010             NaN   \n",
       "768264 2022-05-11 16:59:52.921821+00:00  1293367013             NaN   \n",
       "768266 2022-05-11 16:59:52.921821+00:00  1293367015             NaN   \n",
       "768271 2022-05-11 16:59:52.935290+00:00  1293367020             NaN   \n",
       "768269 2022-05-11 16:59:52.935290+00:00  1293367018             NaN   \n",
       "\n",
       "         trade_id                        maker_order_id  \\\n",
       "5       7884081.0  811f8a8f-53dc-4b0b-b106-9f6cba1eef4b   \n",
       "3       7884080.0  474813db-2329-4aba-a07b-b1adea78da8f   \n",
       "171     7884082.0  df4ec280-7d72-4f13-a79f-4f09bfeed96f   \n",
       "367     7884083.0  b1eb85bc-b2ef-40bf-b606-2d57c34b360b   \n",
       "369     7884084.0  bb2fde8a-e60c-41eb-853d-65d788a2583b   \n",
       "...           ...                                   ...   \n",
       "768261  7922509.0  bd093610-4dd4-419c-9d2e-208ae2a465bf   \n",
       "768264  7922510.0  76b22ba0-975e-4efa-be94-bf71ea5464ae   \n",
       "768266  7922511.0  17bd2f80-a385-4ad4-b904-94537b6cb3c2   \n",
       "768271  7922513.0  6025f56a-f1a6-49a6-9dba-3c4c62af7272   \n",
       "768269  7922512.0  17bd2f80-a385-4ad4-b904-94537b6cb3c2   \n",
       "\n",
       "                              taker_order_id reason  funds  old_size  \\\n",
       "5       0299ed2d-d33d-4313-a1d4-b74ce9cc9f26    NaN    NaN       NaN   \n",
       "3       0299ed2d-d33d-4313-a1d4-b74ce9cc9f26    NaN    NaN       NaN   \n",
       "171     46fd14be-872e-4125-a5d2-b808f16e84b6    NaN    NaN       NaN   \n",
       "367     d3126119-1c84-417e-826b-f24329f651a8    NaN    NaN       NaN   \n",
       "369     d3126119-1c84-417e-826b-f24329f651a8    NaN    NaN       NaN   \n",
       "...                                      ...    ...    ...       ...   \n",
       "768261  cfbef5ba-ea97-4007-b79d-3209d85573ba    NaN    NaN       NaN   \n",
       "768264  22d3c8a0-3942-4315-aa07-a89f2d09f15e    NaN    NaN       NaN   \n",
       "768266  22d3c8a0-3942-4315-aa07-a89f2d09f15e    NaN    NaN       NaN   \n",
       "768271  16efdc4e-f04e-43df-baf4-5ebb76c21285    NaN    NaN       NaN   \n",
       "768269  16efdc4e-f04e-43df-baf4-5ebb76c21285    NaN    NaN       NaN   \n",
       "\n",
       "        new_size            timestamp  \n",
       "5            NaN  1652284740813739000  \n",
       "3            NaN  1652284740813739000  \n",
       "171          NaN  1652284741357997000  \n",
       "367          NaN  1652284742177983000  \n",
       "369          NaN  1652284742177983000  \n",
       "...          ...                  ...  \n",
       "768261       NaN  1652288392913315000  \n",
       "768264       NaN  1652288392921821000  \n",
       "768266       NaN  1652288392921821000  \n",
       "768271       NaN  1652288392935290000  \n",
       "768269       NaN  1652288392935290000  \n",
       "\n",
       "[38434 rows x 19 columns]"
      ]
     },
     "execution_count": 258,
     "metadata": {},
     "output_type": "execute_result"
    }
   ],
   "source": [
    "full_channel_df[full_channel_df.type == 'match']"
   ]
  },
  {
   "cell_type": "code",
   "execution_count": null,
   "metadata": {},
   "outputs": [],
   "source": []
  },
  {
   "cell_type": "code",
   "execution_count": 262,
   "metadata": {},
   "outputs": [],
   "source": [
    "#maker_order_id\n",
    "#811f8a8f-53dc-4b0b-b106-9f6cba1eef4b\n",
    "#474813db-2329-4aba-a07b-b1adea78da8f\n",
    "\n",
    "#taker_order_id\n",
    "#0299ed2d-d33d-4313-a1d4-b74ce9cc9f26"
   ]
  },
  {
   "cell_type": "code",
   "execution_count": 273,
   "metadata": {},
   "outputs": [
    {
     "data": {
      "text/html": [
       "<div>\n",
       "<style scoped>\n",
       "    .dataframe tbody tr th:only-of-type {\n",
       "        vertical-align: middle;\n",
       "    }\n",
       "\n",
       "    .dataframe tbody tr th {\n",
       "        vertical-align: top;\n",
       "    }\n",
       "\n",
       "    .dataframe thead th {\n",
       "        text-align: right;\n",
       "    }\n",
       "</style>\n",
       "<table border=\"1\" class=\"dataframe\">\n",
       "  <thead>\n",
       "    <tr style=\"text-align: right;\">\n",
       "      <th></th>\n",
       "      <th>order_id</th>\n",
       "      <th>order_type</th>\n",
       "      <th>size</th>\n",
       "      <th>price</th>\n",
       "      <th>client_oid</th>\n",
       "      <th>type</th>\n",
       "      <th>side</th>\n",
       "      <th>product_id</th>\n",
       "      <th>time</th>\n",
       "      <th>sequence</th>\n",
       "      <th>remaining_size</th>\n",
       "      <th>trade_id</th>\n",
       "      <th>maker_order_id</th>\n",
       "      <th>taker_order_id</th>\n",
       "      <th>reason</th>\n",
       "      <th>funds</th>\n",
       "      <th>old_size</th>\n",
       "      <th>new_size</th>\n",
       "      <th>timestamp</th>\n",
       "    </tr>\n",
       "  </thead>\n",
       "  <tbody>\n",
       "    <tr>\n",
       "      <th>6</th>\n",
       "      <td>811f8a8f-53dc-4b0b-b106-9f6cba1eef4b</td>\n",
       "      <td>NaN</td>\n",
       "      <td>NaN</td>\n",
       "      <td>2.33</td>\n",
       "      <td>NaN</td>\n",
       "      <td>done</td>\n",
       "      <td>buy</td>\n",
       "      <td>WLUNA-USD</td>\n",
       "      <td>2022-05-11 15:59:00.813739+00:00</td>\n",
       "      <td>1292598755</td>\n",
       "      <td>0.000</td>\n",
       "      <td>NaN</td>\n",
       "      <td>NaN</td>\n",
       "      <td>NaN</td>\n",
       "      <td>filled</td>\n",
       "      <td>NaN</td>\n",
       "      <td>NaN</td>\n",
       "      <td>NaN</td>\n",
       "      <td>1652284740813739000</td>\n",
       "    </tr>\n",
       "    <tr>\n",
       "      <th>2</th>\n",
       "      <td>0299ed2d-d33d-4313-a1d4-b74ce9cc9f26</td>\n",
       "      <td>limit</td>\n",
       "      <td>2324.238</td>\n",
       "      <td>2.33</td>\n",
       "      <td>b1f276a7-e271-4c82-9fa7-a55451507f82</td>\n",
       "      <td>received</td>\n",
       "      <td>sell</td>\n",
       "      <td>WLUNA-USD</td>\n",
       "      <td>2022-05-11 15:59:00.813739+00:00</td>\n",
       "      <td>1292598751</td>\n",
       "      <td>NaN</td>\n",
       "      <td>NaN</td>\n",
       "      <td>NaN</td>\n",
       "      <td>NaN</td>\n",
       "      <td>NaN</td>\n",
       "      <td>NaN</td>\n",
       "      <td>NaN</td>\n",
       "      <td>NaN</td>\n",
       "      <td>1652284740813739000</td>\n",
       "    </tr>\n",
       "    <tr>\n",
       "      <th>7</th>\n",
       "      <td>0299ed2d-d33d-4313-a1d4-b74ce9cc9f26</td>\n",
       "      <td>NaN</td>\n",
       "      <td>NaN</td>\n",
       "      <td>2.33</td>\n",
       "      <td>NaN</td>\n",
       "      <td>done</td>\n",
       "      <td>sell</td>\n",
       "      <td>WLUNA-USD</td>\n",
       "      <td>2022-05-11 15:59:00.813739+00:00</td>\n",
       "      <td>1292598756</td>\n",
       "      <td>1935.432</td>\n",
       "      <td>NaN</td>\n",
       "      <td>NaN</td>\n",
       "      <td>NaN</td>\n",
       "      <td>canceled</td>\n",
       "      <td>NaN</td>\n",
       "      <td>NaN</td>\n",
       "      <td>NaN</td>\n",
       "      <td>1652284740813739000</td>\n",
       "    </tr>\n",
       "    <tr>\n",
       "      <th>4</th>\n",
       "      <td>474813db-2329-4aba-a07b-b1adea78da8f</td>\n",
       "      <td>NaN</td>\n",
       "      <td>NaN</td>\n",
       "      <td>2.33</td>\n",
       "      <td>NaN</td>\n",
       "      <td>done</td>\n",
       "      <td>buy</td>\n",
       "      <td>WLUNA-USD</td>\n",
       "      <td>2022-05-11 15:59:00.813739+00:00</td>\n",
       "      <td>1292598753</td>\n",
       "      <td>0.000</td>\n",
       "      <td>NaN</td>\n",
       "      <td>NaN</td>\n",
       "      <td>NaN</td>\n",
       "      <td>filled</td>\n",
       "      <td>NaN</td>\n",
       "      <td>NaN</td>\n",
       "      <td>NaN</td>\n",
       "      <td>1652284740813739000</td>\n",
       "    </tr>\n",
       "  </tbody>\n",
       "</table>\n",
       "</div>"
      ],
      "text/plain": [
       "                               order_id order_type      size  price  \\\n",
       "6  811f8a8f-53dc-4b0b-b106-9f6cba1eef4b        NaN       NaN   2.33   \n",
       "2  0299ed2d-d33d-4313-a1d4-b74ce9cc9f26      limit  2324.238   2.33   \n",
       "7  0299ed2d-d33d-4313-a1d4-b74ce9cc9f26        NaN       NaN   2.33   \n",
       "4  474813db-2329-4aba-a07b-b1adea78da8f        NaN       NaN   2.33   \n",
       "\n",
       "                             client_oid      type  side product_id  \\\n",
       "6                                   NaN      done   buy  WLUNA-USD   \n",
       "2  b1f276a7-e271-4c82-9fa7-a55451507f82  received  sell  WLUNA-USD   \n",
       "7                                   NaN      done  sell  WLUNA-USD   \n",
       "4                                   NaN      done   buy  WLUNA-USD   \n",
       "\n",
       "                              time    sequence  remaining_size  trade_id  \\\n",
       "6 2022-05-11 15:59:00.813739+00:00  1292598755           0.000       NaN   \n",
       "2 2022-05-11 15:59:00.813739+00:00  1292598751             NaN       NaN   \n",
       "7 2022-05-11 15:59:00.813739+00:00  1292598756        1935.432       NaN   \n",
       "4 2022-05-11 15:59:00.813739+00:00  1292598753           0.000       NaN   \n",
       "\n",
       "  maker_order_id taker_order_id    reason  funds  old_size  new_size  \\\n",
       "6            NaN            NaN    filled    NaN       NaN       NaN   \n",
       "2            NaN            NaN       NaN    NaN       NaN       NaN   \n",
       "7            NaN            NaN  canceled    NaN       NaN       NaN   \n",
       "4            NaN            NaN    filled    NaN       NaN       NaN   \n",
       "\n",
       "             timestamp  \n",
       "6  1652284740813739000  \n",
       "2  1652284740813739000  \n",
       "7  1652284740813739000  \n",
       "4  1652284740813739000  "
      ]
     },
     "execution_count": 273,
     "metadata": {},
     "output_type": "execute_result"
    }
   ],
   "source": [
    "full_channel_df[(full_channel_df.order_id == '0299ed2d-d33d-4313-a1d4-b74ce9cc9f26') | (full_channel_df.order_id == '811f8a8f-53dc-4b0b-b106-9f6cba1eef4b') | (full_channel_df.order_id == '474813db-2329-4aba-a07b-b1adea78da8f')]"
   ]
  },
  {
   "cell_type": "code",
   "execution_count": null,
   "metadata": {},
   "outputs": [],
   "source": []
  },
  {
   "cell_type": "markdown",
   "metadata": {},
   "source": [
    "When order_type is **NaN**, type can be **open**, **match**, **done**, **change** (order change/trade)  \n",
    "When order_type is **limit** or **market**, type is **received** (order creation)  \n",
    "\n",
    "When order_type is **NaN**, reason can be **NaN**, **filled**, **canceled** ()  \n",
    "When order_type is **limit** or **market**, reason can be **NaN**  \n",
    "\n"
   ]
  },
  {
   "cell_type": "code",
   "execution_count": null,
   "metadata": {},
   "outputs": [],
   "source": []
  }
 ],
 "metadata": {
  "kernelspec": {
   "display_name": ".eda",
   "language": "python",
   "name": "python3"
  },
  "language_info": {
   "codemirror_mode": {
    "name": "ipython",
    "version": 3
   },
   "file_extension": ".py",
   "mimetype": "text/x-python",
   "name": "python",
   "nbconvert_exporter": "python",
   "pygments_lexer": "ipython3",
   "version": "3.12.9"
  }
 },
 "nbformat": 4,
 "nbformat_minor": 2
}
